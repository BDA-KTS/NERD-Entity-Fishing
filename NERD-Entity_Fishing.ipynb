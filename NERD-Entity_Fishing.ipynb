{
 "cells": [
  {
   "cell_type": "markdown",
   "id": "d30cdc72",
   "metadata": {},
   "source": [
    "## NERD Entity Fishing - A Guide to Identifying Entities in Text"
   ]
  },
  {
   "cell_type": "markdown",
   "id": "65f0c688",
   "metadata": {},
   "source": [
    "## Learning Objectives\n",
    "\n",
    "This tutorial aims to provide a comprehensive understanding of Named Entity Recognition (NER) using the Entity-Fishing tool, including:\n",
    "\n",
    "- Understand the basics of NER (named entity recognition) and its applications.\n",
    "- Use the Entity-Fishing tool to extract entities from text.\n",
    "- Analyze and interpret the results in a Jupyter Notebook environment."
   ]
  },
  {
   "cell_type": "markdown",
   "id": "f4e0b7b9",
   "metadata": {},
   "source": [
    "# Target Audience \n",
    "\n",
    "This tutorial is meant for users who want to use various state-of-the-art entity linking and disambiguation tools, offering all information in one place.\n",
    "\n",
    "- Basic [Python programming](https://www.python.org/) and natural language processing skills, [named entities](https://en.wikipedia.org/wiki/Named_entity), and [knowledge graphs](https://www.ontotext.com/knowledgehub/fundamentals/what-is-a-knowledge-base/) is required.\n",
    "- Users curious about the off-the-shelf named entity recognition and disambiguation tools.\n",
    "- The detailed introduction to the concepts targets beginners."
   ]
  },
  {
   "cell_type": "markdown",
   "id": "87429725",
   "metadata": {},
   "source": [
    "## Duration \n",
    "\n",
    "2 hours"
   ]
  },
  {
   "cell_type": "markdown",
   "id": "a91c4786",
   "metadata": {},
   "source": [
    "## Use Cases\n",
    "\n",
    "- Research on socioeconomic disparities in urban areas using a dataset of news articles, research papers, and community forum posts that require the extraction of people's names, locations, social organizations, and government agencies, etc. The tutorial helps in the recognition and disambiguation of named entities. For example, Washington may refer to the President of the United States or  Washington, DC, the capital of the United States. \n",
    "- Investigating the impact of celebrity endorsements on social attitudes by extracting celebrity name mentions using NERD tools to recognize people and their associated entities. For example, Ryan Reynolds is a Canadian actor as well as a New Zealand cricketer.\n"
   ]
  },
  {
   "cell_type": "markdown",
   "id": "ed13b7a4-e0a3-490f-93e9-fbf755706119",
   "metadata": {},
   "source": [
    "## Environment Setup\n",
    "\n",
    "Execute the following command to install dependencies from the requirements.txt file (if working locally). It works with Python version >= 3.7"
   ]
  },
  {
   "cell_type": "code",
   "execution_count": 2,
   "id": "e440d3d6",
   "metadata": {},
   "outputs": [
    {
     "name": "stdout",
     "output_type": "stream",
     "text": [
      "Requirement already satisfied: backports.tarfile in /usr/local/python/3.12.1/lib/python3.12/site-packages (from -r requirements.txt (line 1)) (1.2.0)\n",
      "Requirement already satisfied: entity-fishing-client in /usr/local/python/3.12.1/lib/python3.12/site-packages (from -r requirements.txt (line 2)) (0.7.2)\n",
      "Requirement already satisfied: fqdn in /home/codespace/.local/lib/python3.12/site-packages (from -r requirements.txt (line 3)) (1.5.1)\n",
      "Requirement already satisfied: importlib-metadata in /usr/local/python/3.12.1/lib/python3.12/site-packages (from -r requirements.txt (line 4)) (8.7.0)\n",
      "Requirement already satisfied: inflect in /usr/local/python/3.12.1/lib/python3.12/site-packages (from -r requirements.txt (line 5)) (7.5.0)\n",
      "Requirement already satisfied: isoduration in /home/codespace/.local/lib/python3.12/site-packages (from -r requirements.txt (line 6)) (20.11.0)\n",
      "Requirement already satisfied: jaraco-collections in /usr/local/python/3.12.1/lib/python3.12/site-packages (from -r requirements.txt (line 7)) (5.2.1)\n",
      "Requirement already satisfied: jaraco-functools in /usr/local/python/3.12.1/lib/python3.12/site-packages (from -r requirements.txt (line 8)) (4.3.0)\n",
      "Requirement already satisfied: jsonpointer in /home/codespace/.local/lib/python3.12/site-packages (from -r requirements.txt (line 10)) (3.0.0)\n",
      "Requirement already satisfied: jupyterlab in /home/codespace/.local/lib/python3.12/site-packages (from -r requirements.txt (line 11)) (4.4.4)\n",
      "Requirement already satisfied: jupyterlab-git in /home/codespace/.local/lib/python3.12/site-packages (from -r requirements.txt (line 12)) (0.51.2)\n",
      "Requirement already satisfied: nerd in /usr/local/python/3.12.1/lib/python3.12/site-packages (from -r requirements.txt (line 13)) (1.0.0)\n",
      "Requirement already satisfied: pip-chill in /usr/local/python/3.12.1/lib/python3.12/site-packages (from -r requirements.txt (line 14)) (1.0.3)\n",
      "Requirement already satisfied: plotly in /home/codespace/.local/lib/python3.12/site-packages (from -r requirements.txt (line 15)) (6.2.0)\n",
      "Requirement already satisfied: scikit-learn in /home/codespace/.local/lib/python3.12/site-packages (from -r requirements.txt (line 16)) (1.7.0)\n",
      "Requirement already satisfied: seaborn in /home/codespace/.local/lib/python3.12/site-packages (from -r requirements.txt (line 17)) (0.13.2)\n",
      "Requirement already satisfied: spacyfishing in /usr/local/python/3.12.1/lib/python3.12/site-packages (from -r requirements.txt (line 18)) (0.1.8)\n",
      "Requirement already satisfied: tinycss2 in /home/codespace/.local/lib/python3.12/site-packages (from -r requirements.txt (line 19)) (1.4.0)\n",
      "Requirement already satisfied: tomli in /usr/local/python/3.12.1/lib/python3.12/site-packages (from -r requirements.txt (line 20)) (2.2.1)\n",
      "Requirement already satisfied: torch in /home/codespace/.local/lib/python3.12/site-packages (from -r requirements.txt (line 21)) (2.7.1+cpu)\n",
      "Requirement already satisfied: uri-template in /home/codespace/.local/lib/python3.12/site-packages (from -r requirements.txt (line 22)) (1.3.0)\n",
      "Requirement already satisfied: virtualenv in /usr/local/python/3.12.1/lib/python3.12/site-packages (from -r requirements.txt (line 23)) (20.33.0)\n",
      "Requirement already satisfied: webcolors in /home/codespace/.local/lib/python3.12/site-packages (from -r requirements.txt (line 24)) (24.11.1)\n",
      "Requirement already satisfied: requests in /home/codespace/.local/lib/python3.12/site-packages (from entity-fishing-client->-r requirements.txt (line 2)) (2.32.4)\n",
      "Requirement already satisfied: zenlog in /usr/local/python/3.12.1/lib/python3.12/site-packages (from entity-fishing-client->-r requirements.txt (line 2)) (1.1)\n",
      "Requirement already satisfied: zipp>=3.20 in /usr/local/python/3.12.1/lib/python3.12/site-packages (from importlib-metadata->-r requirements.txt (line 4)) (3.23.0)\n",
      "Requirement already satisfied: more_itertools>=8.5.0 in /usr/local/python/3.12.1/lib/python3.12/site-packages (from inflect->-r requirements.txt (line 5)) (10.7.0)\n",
      "Requirement already satisfied: typeguard>=4.0.1 in /usr/local/python/3.12.1/lib/python3.12/site-packages (from inflect->-r requirements.txt (line 5)) (4.4.4)\n",
      "Requirement already satisfied: arrow>=0.15.0 in /home/codespace/.local/lib/python3.12/site-packages (from isoduration->-r requirements.txt (line 6)) (1.3.0)\n",
      "Requirement already satisfied: jaraco.text in /usr/local/python/3.12.1/lib/python3.12/site-packages (from jaraco-collections->-r requirements.txt (line 7)) (4.0.0)\n",
      "Requirement already satisfied: async-lru>=1.0.0 in /home/codespace/.local/lib/python3.12/site-packages (from jupyterlab->-r requirements.txt (line 11)) (2.0.5)\n",
      "Requirement already satisfied: httpx>=0.25.0 in /home/codespace/.local/lib/python3.12/site-packages (from jupyterlab->-r requirements.txt (line 11)) (0.28.1)\n",
      "Requirement already satisfied: ipykernel>=6.5.0 in /home/codespace/.local/lib/python3.12/site-packages (from jupyterlab->-r requirements.txt (line 11)) (6.29.5)\n",
      "Requirement already satisfied: jinja2>=3.0.3 in /home/codespace/.local/lib/python3.12/site-packages (from jupyterlab->-r requirements.txt (line 11)) (3.1.6)\n",
      "Requirement already satisfied: jupyter-core in /home/codespace/.local/lib/python3.12/site-packages (from jupyterlab->-r requirements.txt (line 11)) (5.8.1)\n",
      "Requirement already satisfied: jupyter-lsp>=2.0.0 in /home/codespace/.local/lib/python3.12/site-packages (from jupyterlab->-r requirements.txt (line 11)) (2.2.5)\n",
      "Requirement already satisfied: jupyter-server<3,>=2.4.0 in /home/codespace/.local/lib/python3.12/site-packages (from jupyterlab->-r requirements.txt (line 11)) (2.16.0)\n",
      "Requirement already satisfied: jupyterlab-server<3,>=2.27.1 in /home/codespace/.local/lib/python3.12/site-packages (from jupyterlab->-r requirements.txt (line 11)) (2.27.3)\n",
      "Requirement already satisfied: notebook-shim>=0.2 in /home/codespace/.local/lib/python3.12/site-packages (from jupyterlab->-r requirements.txt (line 11)) (0.2.4)\n",
      "Requirement already satisfied: packaging in /home/codespace/.local/lib/python3.12/site-packages (from jupyterlab->-r requirements.txt (line 11)) (25.0)\n",
      "Requirement already satisfied: setuptools>=41.1.0 in /home/codespace/.local/lib/python3.12/site-packages (from jupyterlab->-r requirements.txt (line 11)) (80.9.0)\n",
      "Requirement already satisfied: tornado>=6.2.0 in /home/codespace/.local/lib/python3.12/site-packages (from jupyterlab->-r requirements.txt (line 11)) (6.5.1)\n",
      "Requirement already satisfied: traitlets in /home/codespace/.local/lib/python3.12/site-packages (from jupyterlab->-r requirements.txt (line 11)) (5.14.3)\n",
      "Requirement already satisfied: anyio>=3.1.0 in /home/codespace/.local/lib/python3.12/site-packages (from jupyter-server<3,>=2.4.0->jupyterlab->-r requirements.txt (line 11)) (4.9.0)\n",
      "Requirement already satisfied: argon2-cffi>=21.1 in /home/codespace/.local/lib/python3.12/site-packages (from jupyter-server<3,>=2.4.0->jupyterlab->-r requirements.txt (line 11)) (25.1.0)\n",
      "Requirement already satisfied: jupyter-client>=7.4.4 in /home/codespace/.local/lib/python3.12/site-packages (from jupyter-server<3,>=2.4.0->jupyterlab->-r requirements.txt (line 11)) (8.6.3)\n",
      "Requirement already satisfied: jupyter-events>=0.11.0 in /home/codespace/.local/lib/python3.12/site-packages (from jupyter-server<3,>=2.4.0->jupyterlab->-r requirements.txt (line 11)) (0.12.0)\n",
      "Requirement already satisfied: jupyter-server-terminals>=0.4.4 in /home/codespace/.local/lib/python3.12/site-packages (from jupyter-server<3,>=2.4.0->jupyterlab->-r requirements.txt (line 11)) (0.5.3)\n",
      "Requirement already satisfied: nbconvert>=6.4.4 in /home/codespace/.local/lib/python3.12/site-packages (from jupyter-server<3,>=2.4.0->jupyterlab->-r requirements.txt (line 11)) (7.16.6)\n",
      "Requirement already satisfied: nbformat>=5.3.0 in /home/codespace/.local/lib/python3.12/site-packages (from jupyter-server<3,>=2.4.0->jupyterlab->-r requirements.txt (line 11)) (5.10.4)\n",
      "Requirement already satisfied: overrides>=5.0 in /home/codespace/.local/lib/python3.12/site-packages (from jupyter-server<3,>=2.4.0->jupyterlab->-r requirements.txt (line 11)) (7.7.0)\n",
      "Requirement already satisfied: prometheus-client>=0.9 in /home/codespace/.local/lib/python3.12/site-packages (from jupyter-server<3,>=2.4.0->jupyterlab->-r requirements.txt (line 11)) (0.22.1)\n",
      "Requirement already satisfied: pyzmq>=24 in /home/codespace/.local/lib/python3.12/site-packages (from jupyter-server<3,>=2.4.0->jupyterlab->-r requirements.txt (line 11)) (27.0.0)\n",
      "Requirement already satisfied: send2trash>=1.8.2 in /home/codespace/.local/lib/python3.12/site-packages (from jupyter-server<3,>=2.4.0->jupyterlab->-r requirements.txt (line 11)) (1.8.3)\n",
      "Requirement already satisfied: terminado>=0.8.3 in /home/codespace/.local/lib/python3.12/site-packages (from jupyter-server<3,>=2.4.0->jupyterlab->-r requirements.txt (line 11)) (0.18.1)\n",
      "Requirement already satisfied: websocket-client>=1.7 in /home/codespace/.local/lib/python3.12/site-packages (from jupyter-server<3,>=2.4.0->jupyterlab->-r requirements.txt (line 11)) (1.8.0)\n",
      "Requirement already satisfied: babel>=2.10 in /home/codespace/.local/lib/python3.12/site-packages (from jupyterlab-server<3,>=2.27.1->jupyterlab->-r requirements.txt (line 11)) (2.17.0)\n",
      "Requirement already satisfied: json5>=0.9.0 in /home/codespace/.local/lib/python3.12/site-packages (from jupyterlab-server<3,>=2.27.1->jupyterlab->-r requirements.txt (line 11)) (0.12.0)\n",
      "Requirement already satisfied: jsonschema>=4.18.0 in /home/codespace/.local/lib/python3.12/site-packages (from jupyterlab-server<3,>=2.27.1->jupyterlab->-r requirements.txt (line 11)) (4.24.0)\n",
      "Requirement already satisfied: nbdime~=4.0.1 in /home/codespace/.local/lib/python3.12/site-packages (from jupyterlab-git->-r requirements.txt (line 12)) (4.0.2)\n",
      "Requirement already satisfied: pexpect in /home/codespace/.local/lib/python3.12/site-packages (from jupyterlab-git->-r requirements.txt (line 12)) (4.9.0)\n",
      "Requirement already satisfied: colorama in /home/codespace/.local/lib/python3.12/site-packages (from nbdime~=4.0.1->jupyterlab-git->-r requirements.txt (line 12)) (0.4.6)\n",
      "Requirement already satisfied: gitpython!=2.1.4,!=2.1.5,!=2.1.6 in /home/codespace/.local/lib/python3.12/site-packages (from nbdime~=4.0.1->jupyterlab-git->-r requirements.txt (line 12)) (3.1.44)\n",
      "Requirement already satisfied: jupyter-server-mathjax>=0.2.2 in /home/codespace/.local/lib/python3.12/site-packages (from nbdime~=4.0.1->jupyterlab-git->-r requirements.txt (line 12)) (0.2.6)\n",
      "Requirement already satisfied: pygments in /home/codespace/.local/lib/python3.12/site-packages (from nbdime~=4.0.1->jupyterlab-git->-r requirements.txt (line 12)) (2.19.2)\n",
      "Requirement already satisfied: narwhals>=1.15.1 in /home/codespace/.local/lib/python3.12/site-packages (from plotly->-r requirements.txt (line 15)) (1.46.0)\n",
      "Requirement already satisfied: numpy>=1.22.0 in /home/codespace/.local/lib/python3.12/site-packages (from scikit-learn->-r requirements.txt (line 16)) (2.3.1)\n",
      "Requirement already satisfied: scipy>=1.8.0 in /home/codespace/.local/lib/python3.12/site-packages (from scikit-learn->-r requirements.txt (line 16)) (1.16.0)\n",
      "Requirement already satisfied: joblib>=1.2.0 in /home/codespace/.local/lib/python3.12/site-packages (from scikit-learn->-r requirements.txt (line 16)) (1.5.1)\n",
      "Requirement already satisfied: threadpoolctl>=3.1.0 in /home/codespace/.local/lib/python3.12/site-packages (from scikit-learn->-r requirements.txt (line 16)) (3.6.0)\n",
      "Requirement already satisfied: pandas>=1.2 in /home/codespace/.local/lib/python3.12/site-packages (from seaborn->-r requirements.txt (line 17)) (2.3.1)\n",
      "Requirement already satisfied: matplotlib!=3.6.1,>=3.4 in /home/codespace/.local/lib/python3.12/site-packages (from seaborn->-r requirements.txt (line 17)) (3.10.3)\n",
      "Requirement already satisfied: spacy>=3.3.1 in /usr/local/python/3.12.1/lib/python3.12/site-packages (from spacyfishing->-r requirements.txt (line 18)) (3.8.7)\n",
      "Requirement already satisfied: webencodings>=0.4 in /home/codespace/.local/lib/python3.12/site-packages (from tinycss2->-r requirements.txt (line 19)) (0.5.1)\n",
      "Requirement already satisfied: filelock in /home/codespace/.local/lib/python3.12/site-packages (from torch->-r requirements.txt (line 21)) (3.13.1)\n",
      "Requirement already satisfied: typing-extensions>=4.10.0 in /home/codespace/.local/lib/python3.12/site-packages (from torch->-r requirements.txt (line 21)) (4.14.1)\n",
      "Requirement already satisfied: sympy>=1.13.3 in /home/codespace/.local/lib/python3.12/site-packages (from torch->-r requirements.txt (line 21)) (1.13.3)\n",
      "Requirement already satisfied: networkx in /home/codespace/.local/lib/python3.12/site-packages (from torch->-r requirements.txt (line 21)) (3.3)\n",
      "Requirement already satisfied: fsspec in /home/codespace/.local/lib/python3.12/site-packages (from torch->-r requirements.txt (line 21)) (2024.6.1)\n",
      "Requirement already satisfied: distlib<1,>=0.3.7 in /usr/local/python/3.12.1/lib/python3.12/site-packages (from virtualenv->-r requirements.txt (line 23)) (0.4.0)\n",
      "Requirement already satisfied: platformdirs<5,>=3.9.1 in /home/codespace/.local/lib/python3.12/site-packages (from virtualenv->-r requirements.txt (line 23)) (4.3.8)\n",
      "Requirement already satisfied: idna>=2.8 in /home/codespace/.local/lib/python3.12/site-packages (from anyio>=3.1.0->jupyter-server<3,>=2.4.0->jupyterlab->-r requirements.txt (line 11)) (3.10)\n",
      "Requirement already satisfied: sniffio>=1.1 in /home/codespace/.local/lib/python3.12/site-packages (from anyio>=3.1.0->jupyter-server<3,>=2.4.0->jupyterlab->-r requirements.txt (line 11)) (1.3.1)\n",
      "Requirement already satisfied: argon2-cffi-bindings in /home/codespace/.local/lib/python3.12/site-packages (from argon2-cffi>=21.1->jupyter-server<3,>=2.4.0->jupyterlab->-r requirements.txt (line 11)) (21.2.0)\n",
      "Requirement already satisfied: python-dateutil>=2.7.0 in /home/codespace/.local/lib/python3.12/site-packages (from arrow>=0.15.0->isoduration->-r requirements.txt (line 6)) (2.9.0.post0)\n",
      "Requirement already satisfied: types-python-dateutil>=2.8.10 in /home/codespace/.local/lib/python3.12/site-packages (from arrow>=0.15.0->isoduration->-r requirements.txt (line 6)) (2.9.0.20250708)\n",
      "Requirement already satisfied: gitdb<5,>=4.0.1 in /home/codespace/.local/lib/python3.12/site-packages (from gitpython!=2.1.4,!=2.1.5,!=2.1.6->nbdime~=4.0.1->jupyterlab-git->-r requirements.txt (line 12)) (4.0.12)\n",
      "Requirement already satisfied: smmap<6,>=3.0.1 in /home/codespace/.local/lib/python3.12/site-packages (from gitdb<5,>=4.0.1->gitpython!=2.1.4,!=2.1.5,!=2.1.6->nbdime~=4.0.1->jupyterlab-git->-r requirements.txt (line 12)) (5.0.2)\n",
      "Requirement already satisfied: certifi in /home/codespace/.local/lib/python3.12/site-packages (from httpx>=0.25.0->jupyterlab->-r requirements.txt (line 11)) (2025.7.9)\n",
      "Requirement already satisfied: httpcore==1.* in /home/codespace/.local/lib/python3.12/site-packages (from httpx>=0.25.0->jupyterlab->-r requirements.txt (line 11)) (1.0.9)\n",
      "Requirement already satisfied: h11>=0.16 in /home/codespace/.local/lib/python3.12/site-packages (from httpcore==1.*->httpx>=0.25.0->jupyterlab->-r requirements.txt (line 11)) (0.16.0)\n",
      "Requirement already satisfied: comm>=0.1.1 in /home/codespace/.local/lib/python3.12/site-packages (from ipykernel>=6.5.0->jupyterlab->-r requirements.txt (line 11)) (0.2.2)\n",
      "Requirement already satisfied: debugpy>=1.6.5 in /home/codespace/.local/lib/python3.12/site-packages (from ipykernel>=6.5.0->jupyterlab->-r requirements.txt (line 11)) (1.8.14)\n",
      "Requirement already satisfied: ipython>=7.23.1 in /home/codespace/.local/lib/python3.12/site-packages (from ipykernel>=6.5.0->jupyterlab->-r requirements.txt (line 11)) (9.4.0)\n",
      "Requirement already satisfied: matplotlib-inline>=0.1 in /home/codespace/.local/lib/python3.12/site-packages (from ipykernel>=6.5.0->jupyterlab->-r requirements.txt (line 11)) (0.1.7)\n",
      "Requirement already satisfied: nest-asyncio in /home/codespace/.local/lib/python3.12/site-packages (from ipykernel>=6.5.0->jupyterlab->-r requirements.txt (line 11)) (1.6.0)\n",
      "Requirement already satisfied: psutil in /home/codespace/.local/lib/python3.12/site-packages (from ipykernel>=6.5.0->jupyterlab->-r requirements.txt (line 11)) (7.0.0)\n",
      "Requirement already satisfied: decorator in /home/codespace/.local/lib/python3.12/site-packages (from ipython>=7.23.1->ipykernel>=6.5.0->jupyterlab->-r requirements.txt (line 11)) (5.2.1)\n",
      "Requirement already satisfied: ipython-pygments-lexers in /home/codespace/.local/lib/python3.12/site-packages (from ipython>=7.23.1->ipykernel>=6.5.0->jupyterlab->-r requirements.txt (line 11)) (1.1.1)\n",
      "Requirement already satisfied: jedi>=0.16 in /home/codespace/.local/lib/python3.12/site-packages (from ipython>=7.23.1->ipykernel>=6.5.0->jupyterlab->-r requirements.txt (line 11)) (0.19.2)\n",
      "Requirement already satisfied: prompt_toolkit<3.1.0,>=3.0.41 in /home/codespace/.local/lib/python3.12/site-packages (from ipython>=7.23.1->ipykernel>=6.5.0->jupyterlab->-r requirements.txt (line 11)) (3.0.51)\n",
      "Requirement already satisfied: stack_data in /home/codespace/.local/lib/python3.12/site-packages (from ipython>=7.23.1->ipykernel>=6.5.0->jupyterlab->-r requirements.txt (line 11)) (0.6.3)\n",
      "Requirement already satisfied: wcwidth in /home/codespace/.local/lib/python3.12/site-packages (from prompt_toolkit<3.1.0,>=3.0.41->ipython>=7.23.1->ipykernel>=6.5.0->jupyterlab->-r requirements.txt (line 11)) (0.2.13)\n",
      "Requirement already satisfied: parso<0.9.0,>=0.8.4 in /home/codespace/.local/lib/python3.12/site-packages (from jedi>=0.16->ipython>=7.23.1->ipykernel>=6.5.0->jupyterlab->-r requirements.txt (line 11)) (0.8.4)\n",
      "Requirement already satisfied: MarkupSafe>=2.0 in /home/codespace/.local/lib/python3.12/site-packages (from jinja2>=3.0.3->jupyterlab->-r requirements.txt (line 11)) (3.0.2)\n",
      "Requirement already satisfied: attrs>=22.2.0 in /home/codespace/.local/lib/python3.12/site-packages (from jsonschema>=4.18.0->jupyterlab-server<3,>=2.27.1->jupyterlab->-r requirements.txt (line 11)) (25.3.0)\n",
      "Requirement already satisfied: jsonschema-specifications>=2023.03.6 in /home/codespace/.local/lib/python3.12/site-packages (from jsonschema>=4.18.0->jupyterlab-server<3,>=2.27.1->jupyterlab->-r requirements.txt (line 11)) (2025.4.1)\n",
      "Requirement already satisfied: referencing>=0.28.4 in /home/codespace/.local/lib/python3.12/site-packages (from jsonschema>=4.18.0->jupyterlab-server<3,>=2.27.1->jupyterlab->-r requirements.txt (line 11)) (0.36.2)\n",
      "Requirement already satisfied: rpds-py>=0.7.1 in /home/codespace/.local/lib/python3.12/site-packages (from jsonschema>=4.18.0->jupyterlab-server<3,>=2.27.1->jupyterlab->-r requirements.txt (line 11)) (0.26.0)\n",
      "Requirement already satisfied: python-json-logger>=2.0.4 in /home/codespace/.local/lib/python3.12/site-packages (from jupyter-events>=0.11.0->jupyter-server<3,>=2.4.0->jupyterlab->-r requirements.txt (line 11)) (3.3.0)\n",
      "Requirement already satisfied: pyyaml>=5.3 in /home/codespace/.local/lib/python3.12/site-packages (from jupyter-events>=0.11.0->jupyter-server<3,>=2.4.0->jupyterlab->-r requirements.txt (line 11)) (6.0.2)\n",
      "Requirement already satisfied: rfc3339-validator in /home/codespace/.local/lib/python3.12/site-packages (from jupyter-events>=0.11.0->jupyter-server<3,>=2.4.0->jupyterlab->-r requirements.txt (line 11)) (0.1.4)\n",
      "Requirement already satisfied: rfc3986-validator>=0.1.1 in /home/codespace/.local/lib/python3.12/site-packages (from jupyter-events>=0.11.0->jupyter-server<3,>=2.4.0->jupyterlab->-r requirements.txt (line 11)) (0.1.1)\n",
      "Requirement already satisfied: contourpy>=1.0.1 in /home/codespace/.local/lib/python3.12/site-packages (from matplotlib!=3.6.1,>=3.4->seaborn->-r requirements.txt (line 17)) (1.3.2)\n",
      "Requirement already satisfied: cycler>=0.10 in /home/codespace/.local/lib/python3.12/site-packages (from matplotlib!=3.6.1,>=3.4->seaborn->-r requirements.txt (line 17)) (0.12.1)\n",
      "Requirement already satisfied: fonttools>=4.22.0 in /home/codespace/.local/lib/python3.12/site-packages (from matplotlib!=3.6.1,>=3.4->seaborn->-r requirements.txt (line 17)) (4.58.5)\n",
      "Requirement already satisfied: kiwisolver>=1.3.1 in /home/codespace/.local/lib/python3.12/site-packages (from matplotlib!=3.6.1,>=3.4->seaborn->-r requirements.txt (line 17)) (1.4.8)\n",
      "Requirement already satisfied: pillow>=8 in /home/codespace/.local/lib/python3.12/site-packages (from matplotlib!=3.6.1,>=3.4->seaborn->-r requirements.txt (line 17)) (11.3.0)\n",
      "Requirement already satisfied: pyparsing>=2.3.1 in /home/codespace/.local/lib/python3.12/site-packages (from matplotlib!=3.6.1,>=3.4->seaborn->-r requirements.txt (line 17)) (3.2.3)\n",
      "Requirement already satisfied: beautifulsoup4 in /home/codespace/.local/lib/python3.12/site-packages (from nbconvert>=6.4.4->jupyter-server<3,>=2.4.0->jupyterlab->-r requirements.txt (line 11)) (4.13.4)\n",
      "Requirement already satisfied: bleach!=5.0.0 in /home/codespace/.local/lib/python3.12/site-packages (from bleach[css]!=5.0.0->nbconvert>=6.4.4->jupyter-server<3,>=2.4.0->jupyterlab->-r requirements.txt (line 11)) (6.2.0)\n",
      "Requirement already satisfied: defusedxml in /home/codespace/.local/lib/python3.12/site-packages (from nbconvert>=6.4.4->jupyter-server<3,>=2.4.0->jupyterlab->-r requirements.txt (line 11)) (0.7.1)\n",
      "Requirement already satisfied: jupyterlab-pygments in /home/codespace/.local/lib/python3.12/site-packages (from nbconvert>=6.4.4->jupyter-server<3,>=2.4.0->jupyterlab->-r requirements.txt (line 11)) (0.3.0)\n",
      "Requirement already satisfied: mistune<4,>=2.0.3 in /home/codespace/.local/lib/python3.12/site-packages (from nbconvert>=6.4.4->jupyter-server<3,>=2.4.0->jupyterlab->-r requirements.txt (line 11)) (3.1.3)\n",
      "Requirement already satisfied: nbclient>=0.5.0 in /home/codespace/.local/lib/python3.12/site-packages (from nbconvert>=6.4.4->jupyter-server<3,>=2.4.0->jupyterlab->-r requirements.txt (line 11)) (0.10.2)\n",
      "Requirement already satisfied: pandocfilters>=1.4.1 in /home/codespace/.local/lib/python3.12/site-packages (from nbconvert>=6.4.4->jupyter-server<3,>=2.4.0->jupyterlab->-r requirements.txt (line 11)) (1.5.1)\n",
      "Requirement already satisfied: fastjsonschema>=2.15 in /home/codespace/.local/lib/python3.12/site-packages (from nbformat>=5.3.0->jupyter-server<3,>=2.4.0->jupyterlab->-r requirements.txt (line 11)) (2.21.1)\n",
      "Requirement already satisfied: pytz>=2020.1 in /home/codespace/.local/lib/python3.12/site-packages (from pandas>=1.2->seaborn->-r requirements.txt (line 17)) (2025.2)\n",
      "Requirement already satisfied: tzdata>=2022.7 in /home/codespace/.local/lib/python3.12/site-packages (from pandas>=1.2->seaborn->-r requirements.txt (line 17)) (2025.2)\n",
      "Requirement already satisfied: ptyprocess>=0.5 in /home/codespace/.local/lib/python3.12/site-packages (from pexpect->jupyterlab-git->-r requirements.txt (line 12)) (0.7.0)\n",
      "Requirement already satisfied: six>=1.5 in /home/codespace/.local/lib/python3.12/site-packages (from python-dateutil>=2.7.0->arrow>=0.15.0->isoduration->-r requirements.txt (line 6)) (1.17.0)\n",
      "Requirement already satisfied: charset_normalizer<4,>=2 in /home/codespace/.local/lib/python3.12/site-packages (from requests->entity-fishing-client->-r requirements.txt (line 2)) (3.4.2)\n",
      "Requirement already satisfied: urllib3<3,>=1.21.1 in /home/codespace/.local/lib/python3.12/site-packages (from requests->entity-fishing-client->-r requirements.txt (line 2)) (2.5.0)\n",
      "Requirement already satisfied: spacy-legacy<3.1.0,>=3.0.11 in /usr/local/python/3.12.1/lib/python3.12/site-packages (from spacy>=3.3.1->spacyfishing->-r requirements.txt (line 18)) (3.0.12)\n",
      "Requirement already satisfied: spacy-loggers<2.0.0,>=1.0.0 in /usr/local/python/3.12.1/lib/python3.12/site-packages (from spacy>=3.3.1->spacyfishing->-r requirements.txt (line 18)) (1.0.5)\n",
      "Requirement already satisfied: murmurhash<1.1.0,>=0.28.0 in /usr/local/python/3.12.1/lib/python3.12/site-packages (from spacy>=3.3.1->spacyfishing->-r requirements.txt (line 18)) (1.0.13)\n",
      "Requirement already satisfied: cymem<2.1.0,>=2.0.2 in /usr/local/python/3.12.1/lib/python3.12/site-packages (from spacy>=3.3.1->spacyfishing->-r requirements.txt (line 18)) (2.0.11)\n",
      "Requirement already satisfied: preshed<3.1.0,>=3.0.2 in /usr/local/python/3.12.1/lib/python3.12/site-packages (from spacy>=3.3.1->spacyfishing->-r requirements.txt (line 18)) (3.0.10)\n",
      "Requirement already satisfied: thinc<8.4.0,>=8.3.4 in /usr/local/python/3.12.1/lib/python3.12/site-packages (from spacy>=3.3.1->spacyfishing->-r requirements.txt (line 18)) (8.3.6)\n",
      "Requirement already satisfied: wasabi<1.2.0,>=0.9.1 in /usr/local/python/3.12.1/lib/python3.12/site-packages (from spacy>=3.3.1->spacyfishing->-r requirements.txt (line 18)) (1.1.3)\n",
      "Requirement already satisfied: srsly<3.0.0,>=2.4.3 in /usr/local/python/3.12.1/lib/python3.12/site-packages (from spacy>=3.3.1->spacyfishing->-r requirements.txt (line 18)) (2.5.1)\n",
      "Requirement already satisfied: catalogue<2.1.0,>=2.0.6 in /usr/local/python/3.12.1/lib/python3.12/site-packages (from spacy>=3.3.1->spacyfishing->-r requirements.txt (line 18)) (2.0.10)\n",
      "Requirement already satisfied: weasel<0.5.0,>=0.1.0 in /usr/local/python/3.12.1/lib/python3.12/site-packages (from spacy>=3.3.1->spacyfishing->-r requirements.txt (line 18)) (0.4.1)\n",
      "Requirement already satisfied: typer<1.0.0,>=0.3.0 in /usr/local/python/3.12.1/lib/python3.12/site-packages (from spacy>=3.3.1->spacyfishing->-r requirements.txt (line 18)) (0.16.0)\n",
      "Requirement already satisfied: tqdm<5.0.0,>=4.38.0 in /usr/local/python/3.12.1/lib/python3.12/site-packages (from spacy>=3.3.1->spacyfishing->-r requirements.txt (line 18)) (4.67.1)\n",
      "Requirement already satisfied: pydantic!=1.8,!=1.8.1,<3.0.0,>=1.7.4 in /usr/local/python/3.12.1/lib/python3.12/site-packages (from spacy>=3.3.1->spacyfishing->-r requirements.txt (line 18)) (2.11.7)\n",
      "Requirement already satisfied: langcodes<4.0.0,>=3.2.0 in /usr/local/python/3.12.1/lib/python3.12/site-packages (from spacy>=3.3.1->spacyfishing->-r requirements.txt (line 18)) (3.5.0)\n",
      "Requirement already satisfied: language-data>=1.2 in /usr/local/python/3.12.1/lib/python3.12/site-packages (from langcodes<4.0.0,>=3.2.0->spacy>=3.3.1->spacyfishing->-r requirements.txt (line 18)) (1.3.0)\n",
      "Requirement already satisfied: annotated-types>=0.6.0 in /usr/local/python/3.12.1/lib/python3.12/site-packages (from pydantic!=1.8,!=1.8.1,<3.0.0,>=1.7.4->spacy>=3.3.1->spacyfishing->-r requirements.txt (line 18)) (0.7.0)\n",
      "Requirement already satisfied: pydantic-core==2.33.2 in /usr/local/python/3.12.1/lib/python3.12/site-packages (from pydantic!=1.8,!=1.8.1,<3.0.0,>=1.7.4->spacy>=3.3.1->spacyfishing->-r requirements.txt (line 18)) (2.33.2)\n",
      "Requirement already satisfied: typing-inspection>=0.4.0 in /usr/local/python/3.12.1/lib/python3.12/site-packages (from pydantic!=1.8,!=1.8.1,<3.0.0,>=1.7.4->spacy>=3.3.1->spacyfishing->-r requirements.txt (line 18)) (0.4.1)\n",
      "Requirement already satisfied: blis<1.4.0,>=1.3.0 in /usr/local/python/3.12.1/lib/python3.12/site-packages (from thinc<8.4.0,>=8.3.4->spacy>=3.3.1->spacyfishing->-r requirements.txt (line 18)) (1.3.0)\n",
      "Requirement already satisfied: confection<1.0.0,>=0.0.1 in /usr/local/python/3.12.1/lib/python3.12/site-packages (from thinc<8.4.0,>=8.3.4->spacy>=3.3.1->spacyfishing->-r requirements.txt (line 18)) (0.1.5)\n",
      "Requirement already satisfied: click>=8.0.0 in /usr/local/python/3.12.1/lib/python3.12/site-packages (from typer<1.0.0,>=0.3.0->spacy>=3.3.1->spacyfishing->-r requirements.txt (line 18)) (8.2.1)\n",
      "Requirement already satisfied: shellingham>=1.3.0 in /usr/local/python/3.12.1/lib/python3.12/site-packages (from typer<1.0.0,>=0.3.0->spacy>=3.3.1->spacyfishing->-r requirements.txt (line 18)) (1.5.4)\n",
      "Requirement already satisfied: rich>=10.11.0 in /usr/local/python/3.12.1/lib/python3.12/site-packages (from typer<1.0.0,>=0.3.0->spacy>=3.3.1->spacyfishing->-r requirements.txt (line 18)) (14.1.0)\n",
      "Requirement already satisfied: cloudpathlib<1.0.0,>=0.7.0 in /usr/local/python/3.12.1/lib/python3.12/site-packages (from weasel<0.5.0,>=0.1.0->spacy>=3.3.1->spacyfishing->-r requirements.txt (line 18)) (0.21.1)\n",
      "Requirement already satisfied: smart-open<8.0.0,>=5.2.1 in /usr/local/python/3.12.1/lib/python3.12/site-packages (from weasel<0.5.0,>=0.1.0->spacy>=3.3.1->spacyfishing->-r requirements.txt (line 18)) (7.3.0.post1)\n",
      "Requirement already satisfied: wrapt in /usr/local/python/3.12.1/lib/python3.12/site-packages (from smart-open<8.0.0,>=5.2.1->weasel<0.5.0,>=0.1.0->spacy>=3.3.1->spacyfishing->-r requirements.txt (line 18)) (1.17.2)\n",
      "Requirement already satisfied: marisa-trie>=1.1.0 in /usr/local/python/3.12.1/lib/python3.12/site-packages (from language-data>=1.2->langcodes<4.0.0,>=3.2.0->spacy>=3.3.1->spacyfishing->-r requirements.txt (line 18)) (1.2.1)\n",
      "Requirement already satisfied: markdown-it-py>=2.2.0 in /usr/local/python/3.12.1/lib/python3.12/site-packages (from rich>=10.11.0->typer<1.0.0,>=0.3.0->spacy>=3.3.1->spacyfishing->-r requirements.txt (line 18)) (3.0.0)\n",
      "Requirement already satisfied: mdurl~=0.1 in /usr/local/python/3.12.1/lib/python3.12/site-packages (from markdown-it-py>=2.2.0->rich>=10.11.0->typer<1.0.0,>=0.3.0->spacy>=3.3.1->spacyfishing->-r requirements.txt (line 18)) (0.1.2)\n",
      "Requirement already satisfied: mpmath<1.4,>=1.1.0 in /home/codespace/.local/lib/python3.12/site-packages (from sympy>=1.13.3->torch->-r requirements.txt (line 21)) (1.3.0)\n",
      "Requirement already satisfied: cffi>=1.0.1 in /home/codespace/.local/lib/python3.12/site-packages (from argon2-cffi-bindings->argon2-cffi>=21.1->jupyter-server<3,>=2.4.0->jupyterlab->-r requirements.txt (line 11)) (1.17.1)\n",
      "Requirement already satisfied: pycparser in /home/codespace/.local/lib/python3.12/site-packages (from cffi>=1.0.1->argon2-cffi-bindings->argon2-cffi>=21.1->jupyter-server<3,>=2.4.0->jupyterlab->-r requirements.txt (line 11)) (2.22)\n",
      "Requirement already satisfied: soupsieve>1.2 in /home/codespace/.local/lib/python3.12/site-packages (from beautifulsoup4->nbconvert>=6.4.4->jupyter-server<3,>=2.4.0->jupyterlab->-r requirements.txt (line 11)) (2.7)\n",
      "Requirement already satisfied: jaraco.context>=4.1 in /usr/local/python/3.12.1/lib/python3.12/site-packages (from jaraco.text->jaraco-collections->-r requirements.txt (line 7)) (6.0.1)\n",
      "Requirement already satisfied: autocommand in /usr/local/python/3.12.1/lib/python3.12/site-packages (from jaraco.text->jaraco-collections->-r requirements.txt (line 7)) (2.2.2)\n",
      "Requirement already satisfied: executing>=1.2.0 in /home/codespace/.local/lib/python3.12/site-packages (from stack_data->ipython>=7.23.1->ipykernel>=6.5.0->jupyterlab->-r requirements.txt (line 11)) (2.2.0)\n",
      "Requirement already satisfied: asttokens>=2.1.0 in /home/codespace/.local/lib/python3.12/site-packages (from stack_data->ipython>=7.23.1->ipykernel>=6.5.0->jupyterlab->-r requirements.txt (line 11)) (3.0.0)\n",
      "Requirement already satisfied: pure-eval in /home/codespace/.local/lib/python3.12/site-packages (from stack_data->ipython>=7.23.1->ipykernel>=6.5.0->jupyterlab->-r requirements.txt (line 11)) (0.2.3)\n",
      "Requirement already satisfied: colorlog in /usr/local/python/3.12.1/lib/python3.12/site-packages (from zenlog->entity-fishing-client->-r requirements.txt (line 2)) (6.9.0)\n",
      "\n",
      "\u001b[1m[\u001b[0m\u001b[34;49mnotice\u001b[0m\u001b[1;39;49m]\u001b[0m\u001b[39;49m A new release of pip is available: \u001b[0m\u001b[31;49m25.1.1\u001b[0m\u001b[39;49m -> \u001b[0m\u001b[32;49m25.2\u001b[0m\n",
      "\u001b[1m[\u001b[0m\u001b[34;49mnotice\u001b[0m\u001b[1;39;49m]\u001b[0m\u001b[39;49m To update, run: \u001b[0m\u001b[32;49mpython3 -m pip install --upgrade pip\u001b[0m\n",
      "Collecting en-core-web-sm==3.8.0\n",
      "  Downloading https://github.com/explosion/spacy-models/releases/download/en_core_web_sm-3.8.0/en_core_web_sm-3.8.0-py3-none-any.whl (12.8 MB)\n",
      "\u001b[2K     \u001b[90m━━━━━━━━━━━━━━━━━━━━━━━━━━━━━━━━━━━━━━━━\u001b[0m \u001b[32m12.8/12.8 MB\u001b[0m \u001b[31m75.9 MB/s\u001b[0m eta \u001b[36m0:00:00\u001b[0m\n",
      "\u001b[?25h\n",
      "\u001b[1m[\u001b[0m\u001b[34;49mnotice\u001b[0m\u001b[1;39;49m]\u001b[0m\u001b[39;49m A new release of pip is available: \u001b[0m\u001b[31;49m25.1.1\u001b[0m\u001b[39;49m -> \u001b[0m\u001b[32;49m25.2\u001b[0m\n",
      "\u001b[1m[\u001b[0m\u001b[34;49mnotice\u001b[0m\u001b[1;39;49m]\u001b[0m\u001b[39;49m To update, run: \u001b[0m\u001b[32;49mpython -m pip install --upgrade pip\u001b[0m\n",
      "\u001b[38;5;2m✔ Download and installation successful\u001b[0m\n",
      "You can now load the package via spacy.load('en_core_web_sm')\n"
     ]
    }
   ],
   "source": [
    "!pip install -r requirements.txt\n",
    "!python -m spacy download en_core_web_sm\n"
   ]
  },
  {
   "cell_type": "markdown",
   "id": "3720bfcd-0083-4f16-be35-7aeaff54a3e5",
   "metadata": {},
   "source": [
    "## Overview\n",
    "\n",
    "In the vast landscape of natural language processing (NLP), Named Entity Recognition (NER) and Named Entity Disambiguation play pivotal roles towards understanding and extracting valuable information from text.\n",
    "\n",
    "Named entities are specific, named elements in text, such as names of people, organizations, locations, dates, and more. Named Entity Recognition is the process of automatically identifying and classifying these named entities within a given text. It forms the foundation for a wide range of applications, from information retrieval and question answering to sentiment analysis and knowledge graph construction.\n",
    "\n",
    "However, the journey doesn't stop at just recognizing named entities. In real-world scenarios, the same name can often refer to multiple entities depending on the context. This brings us to the challenge of Named Entity Disambiguation, which is the process of determining the correct entity a name refers to, particularly in cases of ambiguity. For instance, does \"Michael Jordan\" refer to the Actor or the Sportsperson? This is where disambiguation comes into play, making NER not only about identification but also about understanding context."
   ]
  },
  {
   "cell_type": "markdown",
   "id": "c3328498",
   "metadata": {},
   "source": [
    "**Sample Data**\n",
    "\n",
    "Let us consider a sentence (or a list of sentences) in which we want to perform named entity recognition and disambiguation.\n",
    "\n",
    "Example = *Tesla CEO Elon Musk and Jeffrey Epstein associate Ghislaine Maxwell were once photographed together*."
   ]
  },
  {
   "cell_type": "code",
   "execution_count": 7,
   "id": "b7748477",
   "metadata": {},
   "outputs": [
    {
     "data": {
      "text/plain": [
       "['Microsoft founder Bill Gates met with Indian Prime Minister Narendra Modi to discuss technology partnerships.',\n",
       " 'Tesla CEO Elon Musk and Jeffrey Epstein associate Ghislaine Maxwell were once photographed together.',\n",
       " 'Amazon CEO Andy Jassy spoke alongside climate activist Greta Thunberg at the sustainability summit in Berlin.']"
      ]
     },
     "execution_count": 7,
     "metadata": {},
     "output_type": "execute_result"
    }
   ],
   "source": [
    "with open('data/input_text.txt', 'r') as file:\n",
    "    texts = file.read().split('\\n')\n",
    "\n",
    "texts"
   ]
  },
  {
   "cell_type": "markdown",
   "id": "4c3ee8da",
   "metadata": {},
   "source": [
    "## **1. Entity Fishing Tool**"
   ]
  },
  {
   "cell_type": "markdown",
   "id": "234aa85e",
   "metadata": {},
   "source": [
    "\n",
    "Entity fishing (https://nerd.readthedocs.io/en/latest/index.html) performs general entity recognition and disambiguation against Wikidata knowledge base. The tool currently supports 15 languages, English, French, German, Spanish, Italian, Arabic, Japanese, Chinese (Mandarin), Russian, Portuguese, Farsi, Ukrainian, Swedish, Bengali and Hindi. For English and French, *grobid-ner* is used named entity recognition and disambiguation.\n",
    "\n",
    "**GROBID NER** : GROBID (GeneRation Of BIbliographic Data) is an open-source machine learning library designed to extract and structure bibliographic metadata from scholarly documents. While GROBID's primary focus is on bibliographic data extraction, it also includes a Named Entity Recognition (NER) component that can be used to extract entities like person names, dates, and locations from scholarly texts.GROBID NER is trained to recognize specific types of entities commonly found in scholarly documents, such as author names, publication dates, journal titles, and more. It's particularly useful for processing academic literature and extracting structured information from research papers and articles.\n",
    "      \n",
    "**Training data for GROBID NER** : GROBID is trained on Wikipedia articles &  CONLL 2003 dataset that recognises 27 named entity classes (https://grobid-ner.readthedocs.io/en/latest/). \n",
    "\n",
    "**Knowledge Base**: Entity fishing disambiguates against wikidata knowledge base.\n",
    "\n"
   ]
  },
  {
   "cell_type": "markdown",
   "id": "95e79480",
   "metadata": {},
   "source": [
    "**Installation for Entity Fishing**\n",
    "\n",
    "Install entity fishing client https://pypi.org/project/entity-fishing-client/"
   ]
  },
  {
   "cell_type": "code",
   "execution_count": 8,
   "id": "6f217778",
   "metadata": {},
   "outputs": [
    {
     "name": "stdout",
     "output_type": "stream",
     "text": [
      "\n",
      "\n",
      " 2025-08-24 19:52:56,532 - nerd.nerd_client - DEBUG - About to submit the following query {'text': 'Microsoft founder Bill Gates met with Indian Prime Minister Narendra Modi to discuss technology partnerships.', 'entities': [], 'customisation': 'generic', 'sentence': 'true'}\n",
      "\n",
      "\n",
      " 2025-08-24 19:52:56,687 - nerd.nerd_client - DEBUG - About to submit the following query {'text': 'Tesla CEO Elon Musk and Jeffrey Epstein associate Ghislaine Maxwell were once photographed together.', 'entities': [], 'customisation': 'generic', 'sentence': 'true'}\n",
      "\n",
      "\n",
      " 2025-08-24 19:52:56,800 - nerd.nerd_client - DEBUG - About to submit the following query {'text': 'Amazon CEO Andy Jassy spoke alongside climate activist Greta Thunberg at the sustainability summit in Berlin.', 'entities': [], 'customisation': 'generic', 'sentence': 'true'}\n"
     ]
    },
    {
     "data": {
      "text/plain": [
       "{'text': 'Microsoft founder Bill Gates met with Indian Prime Minister Narendra Modi to discuss technology partnerships.',\n",
       " 'entities': [{'rawName': 'Microsoft',\n",
       "   'offsetStart': 0,\n",
       "   'offsetEnd': 9,\n",
       "   'confidence_score': 0.7067,\n",
       "   'wikipediaExternalRef': 19001,\n",
       "   'wikidataId': 'Q2283',\n",
       "   'domains': ['Electronics', 'Commerce', 'Enterprise', 'Computer_Science']},\n",
       "  {'rawName': 'Bill Gates',\n",
       "   'offsetStart': 18,\n",
       "   'offsetEnd': 28,\n",
       "   'confidence_score': 0.7072,\n",
       "   'wikipediaExternalRef': 3747,\n",
       "   'wikidataId': 'Q5284',\n",
       "   'domains': ['Home', 'Computer_Science', 'Electronics']},\n",
       "  {'rawName': 'Indian Prime Minister Narendra Modi',\n",
       "   'offsetStart': 38,\n",
       "   'offsetEnd': 73,\n",
       "   'confidence_score': 0.4541,\n",
       "   'wikipediaExternalRef': 444222,\n",
       "   'wikidataId': 'Q1058',\n",
       "   'domains': ['Sociology', 'Biology']},\n",
       "  {'rawName': 'partnerships',\n",
       "   'offsetStart': 96,\n",
       "   'offsetEnd': 108,\n",
       "   'confidence_score': 0.3742,\n",
       "   'wikipediaExternalRef': 22666280,\n",
       "   'wikidataId': 'Q7888184',\n",
       "   'domains': ['Administration']}],\n",
       " 'customisation': 'generic',\n",
       " 'sentence': 'true',\n",
       " 'language': {'lang': 'en', 'conf': 0.9999970726275942}}"
      ]
     },
     "execution_count": 8,
     "metadata": {},
     "output_type": "execute_result"
    }
   ],
   "source": [
    "#!pip install nerd\n",
    "import json\n",
    "from nerd import nerd_client\n",
    "client = nerd_client.NerdClient()\n",
    "\n",
    "ls_output_disambiguate = []\n",
    "for text in texts:\n",
    "    ls_output_disambiguate.append(client.disambiguate_text(text)[0])\n",
    "\n",
    "with open(\"data/output_disambiguate.json\", \"w\") as f:\n",
    "    json.dump(ls_output_disambiguate, f, indent=4)\n",
    "\n",
    "ls_output_disambiguate[0]"
   ]
  },
  {
   "cell_type": "markdown",
   "id": "374569e8",
   "metadata": {},
   "source": [
    "## 2. Dbpedia Spotlight"
   ]
  },
  {
   "cell_type": "markdown",
   "id": "758398a1",
   "metadata": {},
   "source": [
    "Dbpedia Spotlight - https://github.com/dbpedia-spotlight/dbpedia-spotlight-model \n",
    "\n",
    "DBpedia Spotlight is a tool for annotating mentions of DBpedia resources in text. This allows linking unstructured information sources to the Linked Open Data cloud through DBpedia. It performs both NER and entity linking by linking recognized entities to their corresponding entries in the DBpedia knowledge base.\n",
    " \n",
    "**Knowledge Base**: Dbpedia Spotlight disambiguates against DBpedia.\n"
   ]
  },
  {
   "cell_type": "markdown",
   "id": "3787b6ae",
   "metadata": {},
   "source": [
    "**Installation of DBpedia Spoltlight**\n",
    "\n",
    "Call the API directly"
   ]
  },
  {
   "cell_type": "code",
   "execution_count": 9,
   "id": "c0b7bc7d",
   "metadata": {},
   "outputs": [
    {
     "data": {
      "text/plain": [
       "'{\"@text\":\"Microsoft founder Bill Gates met with Indian Prime Minister Narendra Modi to discuss technology partnerships.\",\"@confidence\":\"0.5\",\"@support\":\"0\",\"@types\":\"\",\"@sparql\":\"\",\"@policy\":\"whitelist\",\"Resources\":[{\"@URI\":\"http://dbpedia.org/resource/Microsoft\",\"@support\":\"37800\",\"@types\":\"Wikidata:Q4830453,Wikidata:Q43229,Wikidata:Q24229398,DUL:SocialPerson,DUL:Agent,Schema:Organization,DBpedia:Organisation,DBpedia:Agent,DBpedia:Company\",\"@surfaceForm\":\"Microsoft\",\"@offset\":\"0\",\"@similarityScore\":\"0.9999578373542678\",\"@percentageOfSecondRank\":\"3.5435327250394117E-5\"},{\"@URI\":\"http://dbpedia.org/resource/Bill_Gates\",\"@support\":\"2491\",\"@types\":\"Http://xmlns.com/foaf/0.1/Person,Wikidata:Q729,Wikidata:Q5,Wikidata:Q215627,Wikidata:Q19088,DUL:NaturalPerson,Schema:Person,DBpedia:Species,DBpedia:Eukaryote,DBpedia:Animal,DBpedia:Person\",\"@surfaceForm\":\"Bill Gates\",\"@offset\":\"18\",\"@similarityScore\":\"0.9999998577599557\",\"@percentageOfSecondRank\":\"1.422313110181471E-7\"},{\"@URI\":\"http://dbpedia.org/resource/Prime_Minister_of_India\",\"@support\":\"4046\",\"@types\":\"\",\"@surfaceForm\":\"Indian Prime Minister\",\"@offset\":\"38\",\"@similarityScore\":\"1.0\",\"@percentageOfSecondRank\":\"0.0\"},{\"@URI\":\"http://dbpedia.org/resource/Narendra_Modi\",\"@support\":\"4248\",\"@types\":\"Http://xmlns.com/foaf/0.1/Person,Wikidata:Q82955,Wikidata:Q729,Wikidata:Q5,Wikidata:Q215627,Wikidata:Q19088,DUL:NaturalPerson,Schema:Person,DBpedia:Species,DBpedia:Person,DBpedia:Eukaryote,DBpedia:Animal,DBpedia:Politician\",\"@surfaceForm\":\"Narendra Modi\",\"@offset\":\"60\",\"@similarityScore\":\"1.0\",\"@percentageOfSecondRank\":\"0.0\"}]}'"
      ]
     },
     "execution_count": 9,
     "metadata": {},
     "output_type": "execute_result"
    }
   ],
   "source": [
    "import requests\n",
    "\n",
    "ls_output_annotate_mentions = []\n",
    "for text in texts:\n",
    "    data = \"text=\" + text\n",
    "    result = requests.post(\"https://api.dbpedia-spotlight.org/en/annotate\", data=data, headers={\"Accept\": \"application/json\"})\n",
    "    ls_output_annotate_mentions.append(result.text)\n",
    "\n",
    "\n",
    "with open(\"data/output_annotated_mentions.json\", \"w\") as f:\n",
    "    json.dump(ls_output_annotate_mentions, f, indent=4)\n",
    "\n",
    "ls_output_annotate_mentions[0]"
   ]
  },
  {
   "cell_type": "markdown",
   "id": "1a00de16",
   "metadata": {},
   "source": [
    "## Conclusion\n",
    "\n",
    "In conclusion, this tutorial equips you with the skills to use some of the existing open source off-the-shelf NERD tools. It gives you confidence to explore any new NERD tools other than those available in this tutorial.\n",
    "\n",
    "For more in-depth exploration, consider checking out the following resources: \n",
    "\n",
    "https://nlpprogress.com/english/entity_linking.html#:~:text=Entity%20Linking%20(EL)%20is%20the,Named%20Entity%20Recognition%20and%20Disambiguation."
   ]
  },
  {
   "cell_type": "markdown",
   "id": "221b62a8",
   "metadata": {},
   "source": [
    "\n",
    "## FAQs\n",
    "\n",
    "**Why use off-the-shelf tools for entity linking and disambiguation?** Off-the-shelf tools offer *pre-built solutions* that save time and resources. They are often trained on *large datasets*, providing a good starting point for various applications.\n",
    "\n",
    "**What types of entities can be linked using these tools?** Most tools support common entities like *persons, organizations, and locations*. Some may also handle *specific domains* or custom entities based on the tool's training data.\n",
    "\n",
    "\n",
    "**How accurate are off-the-shelf tools?** Accuracy varies among tools. It depends on factors such as the *quality of training data*, the *diversity of entities*, and the *specific use case*. Evaluation metrics like *precision, recall, and F1 score* help assess accuracy.\n",
    "\n",
    "**Do these tools work for multiple languages?** Many off-the-shelf tools support *multiple languages*, but the level of accuracy can vary. It's essential to check the *documentation* for language support.\n",
    "\n",
    "**Can these tools be fine-tuned for domain-specific applications?** Some tools offer the possibility of *fine-tuning* on domain-specific data. However, it depends on the tool's *architecture and capabilities*.\n",
    "\n",
    "**How do these tools handle ambiguous references?** Ambiguity resolution depends on **context** and available information. Some tools use *machine learning models* that consider surrounding words, phrases, or contextual information to disambiguate references.\n",
    "\n",
    "**Are there privacy concerns when using entity linking tools?** Yes, privacy concerns may arise, especially if the text contains *sensitive information*. It's crucial to review the tool's *privacy policy* and consider using it with proper *data anonymization practices*.\n",
    "\n",
    "\n",
    "**What knowledge bases do these tools typically use?** Tools may use popular knowledge bases like *Wikidata, DBpedia, or Freebase*. Some tools allow users to specify *custom knowledge bases* or integrate with proprietary databases.\n",
    "\n",
    "**Can these tools handle real-time processing?** Real-time processing capabilities vary. Some tools are optimized for *speed*, while others may be more suitable for *batch processing*. Consider the specific requirements of your application.\n",
    "\n",
    "**How do these tools handle typos or misspellings?** Some tools include mechanisms to handle *typos or misspellings* through *fuzzy matching* or *probabilistic models*. However, their effectiveness may vary.\n",
    "\n",
    "**Are there limitations to off-the-shelf tools?** Yes, limitations can include handling *rare entities*, dealing with *noisy or informal text*, and adapting to *highly specialized domains*. It's essential to understand the tool's *strengths and weaknesses*.\n",
    "\n",
    "**Do these tools require internet access?** Some tools may require *internet access* to query external knowledge bases. Check the tool's *documentation* for offline or custom knowledge base options.\n",
    "\n",
    "**How scalable are these tools for large datasets?** Scalability depends on the tool's *architecture*. Some tools are designed for *large-scale processing*, while others may be more suitable for *smaller datasets*.\n",
    "\n",
    "**Can I combine multiple tools for better performance?** Yes, combining multiple tools (*ensemble methods*) can improve performance and mitigate the limitations of individual tools. However, *integration complexity* should be considered.\n"
   ]
  },
  {
   "cell_type": "markdown",
   "id": "3354ff36-c1e4-41f2-acb8-604f0c3ab82b",
   "metadata": {},
   "source": [
    "## Contact details\n",
    "For more information, please contact <Susmita.Gangopadhyay@gesis.org>"
   ]
  }
 ],
 "metadata": {
  "kernelspec": {
   "display_name": "Python 3",
   "language": "python",
   "name": "python3"
  },
  "language_info": {
   "codemirror_mode": {
    "name": "ipython",
    "version": 3
   },
   "file_extension": ".py",
   "mimetype": "text/x-python",
   "name": "python",
   "nbconvert_exporter": "python",
   "pygments_lexer": "ipython3",
   "version": "3.12.1"
  }
 },
 "nbformat": 4,
 "nbformat_minor": 5
}
