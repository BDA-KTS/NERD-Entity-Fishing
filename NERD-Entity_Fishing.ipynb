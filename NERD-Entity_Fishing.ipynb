{
 "cells": [
  {
   "cell_type": "markdown",
   "id": "d30cdc72",
   "metadata": {},
   "source": [
    "## NERD Entity Fishing - A Guide to Identifying Entities in Text"
   ]
  },
  {
   "cell_type": "markdown",
   "id": "65f0c688",
   "metadata": {},
   "source": [
    "## Learning Objectives\n",
    "\n",
    "This tutorial aims to provide a comprehensive understanding of Named Entity Recognition (NER) using the Entity-Fishing tool, including:\n",
    "\n",
    "- Understand the basics of NER (named entity recognition) and its applications.\n",
    "- Use the Entity-Fishing tool to extract entities from text.\n",
    "- Analyze and interpret the results in a Jupyter Notebook environment."
   ]
  },
  {
   "cell_type": "markdown",
   "id": "f4e0b7b9",
   "metadata": {},
   "source": [
    "# Target Audience \n",
    "\n",
    "This tutorial is meant for users who want to use various state-of-the-art entity linking and disambiguation tools, offering all information in one place.\n",
    "\n",
    "- Basic [Python programming](https://www.python.org/) and natural language processing skills, [named entities](https://en.wikipedia.org/wiki/Named_entity), and [knowledge graphs](https://www.ontotext.com/knowledgehub/fundamentals/what-is-a-knowledge-base/) is required.\n",
    "- Users curious about the off-the-shelf named entity recognition and disambiguation tools.\n",
    "- The detailed introduction to the concepts targets beginners."
   ]
  },
  {
   "cell_type": "markdown",
   "id": "87429725",
   "metadata": {},
   "source": [
    "## Duration \n",
    "\n",
    "2 hours"
   ]
  },
  {
   "cell_type": "markdown",
   "id": "a91c4786",
   "metadata": {},
   "source": [
    "## Use Cases\n",
    "\n",
    "- Research on socioeconomic disparities in urban areas using a dataset of news articles, research papers, and community forum posts that require the extraction of people's names, locations, social organizations, and government agencies, etc. The tutorial helps in the recognition and disambiguation of named entities. For example, Washington may refer to the President of the United States or  Washington, DC, the capital of the United States. \n",
    "- Investigating the impact of celebrity endorsements on social attitudes by extracting celebrity name mentions using NERD tools to recognize people and their associated entities. For example, Ryan Reynolds is a Canadian actor as well as a New Zealand cricketer.\n"
   ]
  },
  {
   "cell_type": "markdown",
   "id": "ed13b7a4-e0a3-490f-93e9-fbf755706119",
   "metadata": {},
   "source": [
    "## Environment Setup\n",
    "\n",
    "Execute the following command to install dependencies from the requirements.txt file (if working locally). It works with Python version >= 3.7"
   ]
  },
  {
   "cell_type": "code",
   "execution_count": null,
   "id": "e440d3d6",
   "metadata": {},
   "outputs": [],
   "source": [
    "#!pip install -r requirements.txt\n",
    "!python -m spacy download en_core_web_sm\n"
   ]
  },
  {
   "cell_type": "markdown",
   "id": "3720bfcd-0083-4f16-be35-7aeaff54a3e5",
   "metadata": {},
   "source": [
    "## Overview\n",
    "\n",
    "In the vast landscape of natural language processing (NLP), Named Entity Recognition (NER) and Named Entity Disambiguation play pivotal roles towards understanding and extracting valuable information from text.\n",
    "\n",
    "Named entities are specific, named elements in text, such as names of people, organizations, locations, dates, and more. Named Entity Recognition is the process of automatically identifying and classifying these named entities within a given text. It forms the foundation for a wide range of applications, from information retrieval and question answering to sentiment analysis and knowledge graph construction.\n",
    "\n",
    "However, the journey doesn't stop at just recognizing named entities. In real-world scenarios, the same name can often refer to multiple entities depending on the context. This brings us to the challenge of Named Entity Disambiguation, which is the process of determining the correct entity a name refers to, particularly in cases of ambiguity. For instance, does \"Michael Jordan\" refer to the Actor or the Sportsperson? This is where disambiguation comes into play, making NER not only about identification but also about understanding context."
   ]
  },
  {
   "cell_type": "markdown",
   "id": "c3328498",
   "metadata": {},
   "source": [
    "**Sample Data**\n",
    "\n",
    "Let us consider a sentence (or a list of sentences) in which we want to perform named entity recognition and disambiguation.\n",
    "\n",
    "Example = *Tesla CEO Elon Musk and Jeffrey Epstein associate Ghislaine Maxwell were once photographed together*."
   ]
  },
  {
   "cell_type": "code",
   "execution_count": 7,
   "id": "b7748477",
   "metadata": {},
   "outputs": [
    {
     "data": {
      "text/plain": [
       "['Microsoft founder Bill Gates met with Indian Prime Minister Narendra Modi to discuss technology partnerships.',\n",
       " 'Tesla CEO Elon Musk and Jeffrey Epstein associate Ghislaine Maxwell were once photographed together.',\n",
       " 'Amazon CEO Andy Jassy spoke alongside climate activist Greta Thunberg at the sustainability summit in Berlin.']"
      ]
     },
     "execution_count": 7,
     "metadata": {},
     "output_type": "execute_result"
    }
   ],
   "source": [
    "with open('data/input_text.txt', 'r') as file:\n",
    "    texts = file.read().split('\\n')\n",
    "\n",
    "texts"
   ]
  },
  {
   "cell_type": "markdown",
   "id": "4c3ee8da",
   "metadata": {},
   "source": [
    "## **1. Entity Fishing Tool**"
   ]
  },
  {
   "cell_type": "markdown",
   "id": "234aa85e",
   "metadata": {},
   "source": [
    "\n",
    "Entity fishing (https://nerd.readthedocs.io/en/latest/index.html) performs general entity recognition and disambiguation against Wikidata knowledge base. The tool currently supports 15 languages, English, French, German, Spanish, Italian, Arabic, Japanese, Chinese (Mandarin), Russian, Portuguese, Farsi, Ukrainian, Swedish, Bengali and Hindi. For English and French, *grobid-ner* is used named entity recognition and disambiguation.\n",
    "\n",
    "**GROBID NER** : GROBID (GeneRation Of BIbliographic Data) is an open-source machine learning library designed to extract and structure bibliographic metadata from scholarly documents. While GROBID's primary focus is on bibliographic data extraction, it also includes a Named Entity Recognition (NER) component that can be used to extract entities like person names, dates, and locations from scholarly texts.GROBID NER is trained to recognize specific types of entities commonly found in scholarly documents, such as author names, publication dates, journal titles, and more. It's particularly useful for processing academic literature and extracting structured information from research papers and articles.\n",
    "      \n",
    "**Training data for GROBID NER** : GROBID is trained on Wikipedia articles &  CONLL 2003 dataset that recognises 27 named entity classes (https://grobid-ner.readthedocs.io/en/latest/). \n",
    "\n",
    "**Knowledge Base**: Entity fishing disambiguates against wikidata knowledge base.\n",
    "\n"
   ]
  },
  {
   "cell_type": "markdown",
   "id": "95e79480",
   "metadata": {},
   "source": [
    "**Installation for Entity Fishing**\n",
    "\n",
    "Install entity fishing client https://pypi.org/project/entity-fishing-client/"
   ]
  },
  {
   "cell_type": "code",
   "execution_count": 8,
   "id": "6f217778",
   "metadata": {},
   "outputs": [
    {
     "name": "stdout",
     "output_type": "stream",
     "text": [
      "\n",
      "\n",
      " 2025-08-24 19:52:56,532 - nerd.nerd_client - DEBUG - About to submit the following query {'text': 'Microsoft founder Bill Gates met with Indian Prime Minister Narendra Modi to discuss technology partnerships.', 'entities': [], 'customisation': 'generic', 'sentence': 'true'}\n",
      "\n",
      "\n",
      " 2025-08-24 19:52:56,687 - nerd.nerd_client - DEBUG - About to submit the following query {'text': 'Tesla CEO Elon Musk and Jeffrey Epstein associate Ghislaine Maxwell were once photographed together.', 'entities': [], 'customisation': 'generic', 'sentence': 'true'}\n",
      "\n",
      "\n",
      " 2025-08-24 19:52:56,800 - nerd.nerd_client - DEBUG - About to submit the following query {'text': 'Amazon CEO Andy Jassy spoke alongside climate activist Greta Thunberg at the sustainability summit in Berlin.', 'entities': [], 'customisation': 'generic', 'sentence': 'true'}\n"
     ]
    },
    {
     "data": {
      "text/plain": [
       "{'text': 'Microsoft founder Bill Gates met with Indian Prime Minister Narendra Modi to discuss technology partnerships.',\n",
       " 'entities': [{'rawName': 'Microsoft',\n",
       "   'offsetStart': 0,\n",
       "   'offsetEnd': 9,\n",
       "   'confidence_score': 0.7067,\n",
       "   'wikipediaExternalRef': 19001,\n",
       "   'wikidataId': 'Q2283',\n",
       "   'domains': ['Electronics', 'Commerce', 'Enterprise', 'Computer_Science']},\n",
       "  {'rawName': 'Bill Gates',\n",
       "   'offsetStart': 18,\n",
       "   'offsetEnd': 28,\n",
       "   'confidence_score': 0.7072,\n",
       "   'wikipediaExternalRef': 3747,\n",
       "   'wikidataId': 'Q5284',\n",
       "   'domains': ['Home', 'Computer_Science', 'Electronics']},\n",
       "  {'rawName': 'Indian Prime Minister Narendra Modi',\n",
       "   'offsetStart': 38,\n",
       "   'offsetEnd': 73,\n",
       "   'confidence_score': 0.4541,\n",
       "   'wikipediaExternalRef': 444222,\n",
       "   'wikidataId': 'Q1058',\n",
       "   'domains': ['Sociology', 'Biology']},\n",
       "  {'rawName': 'partnerships',\n",
       "   'offsetStart': 96,\n",
       "   'offsetEnd': 108,\n",
       "   'confidence_score': 0.3742,\n",
       "   'wikipediaExternalRef': 22666280,\n",
       "   'wikidataId': 'Q7888184',\n",
       "   'domains': ['Administration']}],\n",
       " 'customisation': 'generic',\n",
       " 'sentence': 'true',\n",
       " 'language': {'lang': 'en', 'conf': 0.9999970726275942}}"
      ]
     },
     "execution_count": 8,
     "metadata": {},
     "output_type": "execute_result"
    }
   ],
   "source": [
    "#!pip install nerd\n",
    "import json\n",
    "from nerd import nerd_client\n",
    "client = nerd_client.NerdClient()\n",
    "\n",
    "ls_output_disambiguate = []\n",
    "for text in texts:\n",
    "    ls_output_disambiguate.append(client.disambiguate_text(text)[0])\n",
    "\n",
    "with open(\"data/output_disambiguate.json\", \"w\") as f:\n",
    "    json.dump(ls_output_disambiguate, f, indent=4)\n",
    "\n",
    "ls_output_disambiguate[0]"
   ]
  },
  {
   "cell_type": "markdown",
   "id": "374569e8",
   "metadata": {},
   "source": [
    "## 2. Dbpedia Spotlight"
   ]
  },
  {
   "cell_type": "markdown",
   "id": "758398a1",
   "metadata": {},
   "source": [
    "Dbpedia Spotlight - https://github.com/dbpedia-spotlight/dbpedia-spotlight-model \n",
    "\n",
    "DBpedia Spotlight is a tool for annotating mentions of DBpedia resources in text. This allows linking unstructured information sources to the Linked Open Data cloud through DBpedia. It performs both NER and entity linking by linking recognized entities to their corresponding entries in the DBpedia knowledge base.\n",
    " \n",
    "**Knowledge Base**: Dbpedia Spotlight disambiguates against DBpedia.\n"
   ]
  },
  {
   "cell_type": "markdown",
   "id": "3787b6ae",
   "metadata": {},
   "source": [
    "**Installation of DBpedia Spoltlight**\n",
    "\n",
    "Call the API directly"
   ]
  },
  {
   "cell_type": "code",
   "execution_count": 9,
   "id": "c0b7bc7d",
   "metadata": {},
   "outputs": [
    {
     "data": {
      "text/plain": [
       "'{\"@text\":\"Microsoft founder Bill Gates met with Indian Prime Minister Narendra Modi to discuss technology partnerships.\",\"@confidence\":\"0.5\",\"@support\":\"0\",\"@types\":\"\",\"@sparql\":\"\",\"@policy\":\"whitelist\",\"Resources\":[{\"@URI\":\"http://dbpedia.org/resource/Microsoft\",\"@support\":\"37800\",\"@types\":\"Wikidata:Q4830453,Wikidata:Q43229,Wikidata:Q24229398,DUL:SocialPerson,DUL:Agent,Schema:Organization,DBpedia:Organisation,DBpedia:Agent,DBpedia:Company\",\"@surfaceForm\":\"Microsoft\",\"@offset\":\"0\",\"@similarityScore\":\"0.9999578373542678\",\"@percentageOfSecondRank\":\"3.5435327250394117E-5\"},{\"@URI\":\"http://dbpedia.org/resource/Bill_Gates\",\"@support\":\"2491\",\"@types\":\"Http://xmlns.com/foaf/0.1/Person,Wikidata:Q729,Wikidata:Q5,Wikidata:Q215627,Wikidata:Q19088,DUL:NaturalPerson,Schema:Person,DBpedia:Species,DBpedia:Eukaryote,DBpedia:Animal,DBpedia:Person\",\"@surfaceForm\":\"Bill Gates\",\"@offset\":\"18\",\"@similarityScore\":\"0.9999998577599557\",\"@percentageOfSecondRank\":\"1.422313110181471E-7\"},{\"@URI\":\"http://dbpedia.org/resource/Prime_Minister_of_India\",\"@support\":\"4046\",\"@types\":\"\",\"@surfaceForm\":\"Indian Prime Minister\",\"@offset\":\"38\",\"@similarityScore\":\"1.0\",\"@percentageOfSecondRank\":\"0.0\"},{\"@URI\":\"http://dbpedia.org/resource/Narendra_Modi\",\"@support\":\"4248\",\"@types\":\"Http://xmlns.com/foaf/0.1/Person,Wikidata:Q82955,Wikidata:Q729,Wikidata:Q5,Wikidata:Q215627,Wikidata:Q19088,DUL:NaturalPerson,Schema:Person,DBpedia:Species,DBpedia:Person,DBpedia:Eukaryote,DBpedia:Animal,DBpedia:Politician\",\"@surfaceForm\":\"Narendra Modi\",\"@offset\":\"60\",\"@similarityScore\":\"1.0\",\"@percentageOfSecondRank\":\"0.0\"}]}'"
      ]
     },
     "execution_count": 9,
     "metadata": {},
     "output_type": "execute_result"
    }
   ],
   "source": [
    "import requests\n",
    "\n",
    "ls_output_annotate_mentions = []\n",
    "for text in texts:\n",
    "    data = \"text=\" + text\n",
    "    result = requests.post(\"https://api.dbpedia-spotlight.org/en/annotate\", data=data, headers={\"Accept\": \"application/json\"})\n",
    "    ls_output_annotate_mentions.append(result.text)\n",
    "\n",
    "\n",
    "with open(\"data/output_annotated_mentions.json\", \"w\") as f:\n",
    "    json.dump(ls_output_annotate_mentions, f, indent=4)\n",
    "\n",
    "ls_output_annotate_mentions[0]"
   ]
  },
  {
   "cell_type": "markdown",
   "id": "1a00de16",
   "metadata": {},
   "source": [
    "## Conclusion\n",
    "\n",
    "In conclusion, this tutorial equips you with the skills to use some of the existing open source off-the-shelf NERD tools. It gives you confidence to explore any new NERD tools other than those available in this tutorial.\n",
    "\n",
    "For more in-depth exploration, consider checking out the following resources: \n",
    "\n",
    "https://nlpprogress.com/english/entity_linking.html#:~:text=Entity%20Linking%20(EL)%20is%20the,Named%20Entity%20Recognition%20and%20Disambiguation."
   ]
  },
  {
   "cell_type": "markdown",
   "id": "221b62a8",
   "metadata": {},
   "source": [
    "\n",
    "## FAQs\n",
    "\n",
    "**Why use off-the-shelf tools for entity linking and disambiguation?** Off-the-shelf tools offer *pre-built solutions* that save time and resources. They are often trained on *large datasets*, providing a good starting point for various applications.\n",
    "\n",
    "**What types of entities can be linked using these tools?** Most tools support common entities like *persons, organizations, and locations*. Some may also handle *specific domains* or custom entities based on the tool's training data.\n",
    "\n",
    "\n",
    "**How accurate are off-the-shelf tools?** Accuracy varies among tools. It depends on factors such as the *quality of training data*, the *diversity of entities*, and the *specific use case*. Evaluation metrics like *precision, recall, and F1 score* help assess accuracy.\n",
    "\n",
    "**Do these tools work for multiple languages?** Many off-the-shelf tools support *multiple languages*, but the level of accuracy can vary. It's essential to check the *documentation* for language support.\n",
    "\n",
    "**Can these tools be fine-tuned for domain-specific applications?** Some tools offer the possibility of *fine-tuning* on domain-specific data. However, it depends on the tool's *architecture and capabilities*.\n",
    "\n",
    "**How do these tools handle ambiguous references?** Ambiguity resolution depends on **context** and available information. Some tools use *machine learning models* that consider surrounding words, phrases, or contextual information to disambiguate references.\n",
    "\n",
    "**Are there privacy concerns when using entity linking tools?** Yes, privacy concerns may arise, especially if the text contains *sensitive information*. It's crucial to review the tool's *privacy policy* and consider using it with proper *data anonymization practices*.\n",
    "\n",
    "\n",
    "**What knowledge bases do these tools typically use?** Tools may use popular knowledge bases like *Wikidata, DBpedia, or Freebase*. Some tools allow users to specify *custom knowledge bases* or integrate with proprietary databases.\n",
    "\n",
    "**Can these tools handle real-time processing?** Real-time processing capabilities vary. Some tools are optimized for *speed*, while others may be more suitable for *batch processing*. Consider the specific requirements of your application.\n",
    "\n",
    "**How do these tools handle typos or misspellings?** Some tools include mechanisms to handle *typos or misspellings* through *fuzzy matching* or *probabilistic models*. However, their effectiveness may vary.\n",
    "\n",
    "**Are there limitations to off-the-shelf tools?** Yes, limitations can include handling *rare entities*, dealing with *noisy or informal text*, and adapting to *highly specialized domains*. It's essential to understand the tool's *strengths and weaknesses*.\n",
    "\n",
    "**Do these tools require internet access?** Some tools may require *internet access* to query external knowledge bases. Check the tool's *documentation* for offline or custom knowledge base options.\n",
    "\n",
    "**How scalable are these tools for large datasets?** Scalability depends on the tool's *architecture*. Some tools are designed for *large-scale processing*, while others may be more suitable for *smaller datasets*.\n",
    "\n",
    "**Can I combine multiple tools for better performance?** Yes, combining multiple tools (*ensemble methods*) can improve performance and mitigate the limitations of individual tools. However, *integration complexity* should be considered.\n"
   ]
  },
  {
   "cell_type": "markdown",
   "id": "3354ff36-c1e4-41f2-acb8-604f0c3ab82b",
   "metadata": {},
   "source": [
    "## Contact details\n",
    "For more information, please contact <Susmita.Gangopadhyay@gesis.org>"
   ]
  }
 ],
 "metadata": {
  "kernelspec": {
   "display_name": "Python 3 (ipykernel)",
   "language": "python",
   "name": "python3"
  },
  "language_info": {
   "codemirror_mode": {
    "name": "ipython",
    "version": 3
   },
   "file_extension": ".py",
   "mimetype": "text/x-python",
   "name": "python",
   "nbconvert_exporter": "python",
   "pygments_lexer": "ipython3",
   "version": "3.12.8"
  }
 },
 "nbformat": 4,
 "nbformat_minor": 5
}
