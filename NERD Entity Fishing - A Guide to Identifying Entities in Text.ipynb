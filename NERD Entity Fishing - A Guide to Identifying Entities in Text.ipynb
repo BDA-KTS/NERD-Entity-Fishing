{
 "cells": [
  {
   "cell_type": "markdown",
   "id": "d30cdc72",
   "metadata": {},
   "source": [
    "## NERD Entity Fishing - A Guide to Identifying Entities in Text"
   ]
  },
  {
   "cell_type": "markdown",
   "id": "e3525fcb",
   "metadata": {},
   "source": [
    "## Introduction ##\n",
    "\n",
    "\n",
    "\n"
   ]
  },
  {
   "cell_type": "markdown",
   "id": "eb580e0f",
   "metadata": {},
   "source": [
    "\n",
    "\n",
    "This tutorial is designed for users who wants to compare and implement various off-the-shelf Named Entity Recognition and \n",
    "Disambiguation Tools\n",
    "It assumes a basic knowledge of Python and Natural Language Processing.\n",
    "Whether you are a beginner or an experienced computer Scientist or Social Scientist, this tutorial introduces some of the most popular\n",
    "and existing NERD tools together and explains their installation and usage\n"
   ]
  },
  {
   "cell_type": "markdown",
   "id": "09596dee",
   "metadata": {},
   "source": [
    "**Learning Goal**\n",
    "By the end of this tutorial, you will be able to use some of the state-of-the-art off-the-shelf NERD tools, and obtain an  understanding about them using their Public APIs"
   ]
  },
  {
   "cell_type": "markdown",
   "id": "65f0c688",
   "metadata": {},
   "source": [
    "**Learning Objectives**\n",
    "- Explore state-of-the-art NERD tools like Entity Fishing, SpacyFishing and DBPedia Spotlight\n",
    "- Install them in your local system\n",
    "- Try out some prepared examples"
   ]
  },
  {
   "cell_type": "markdown",
   "id": "04340ad8",
   "metadata": {},
   "source": [
    "**Description**\n",
    "\n",
    "In the vast landscape of natural language processing (NLP), Named Entity Recognition (NER) and Named Entity Disambiguation play pivotal roles towards understanding and extracting valuable information from text.\n",
    "\n",
    "Named entities are specific, named elements in text, such as names of people, organizations, locations, dates, and more. Named Entity Recognition is the process of automatically identifying and classifying these named entities within a given text. It forms the foundation for a wide range of applications, from information retrieval and question answering to sentiment analysis and knowledge graph construction.\n",
    "\n",
    "However, the journey doesn't stop at just recognizing named entities. In real-world scenarios, the same name can often refer to multiple entities depending on the context. This brings us to the challenge of Named Entity Disambiguation, which is the process of determining the correct entity a name refers to, particularly in cases of ambiguity. For instance, does \"Michale Jordan\" refer to the Actor or the Sportsperson? This is where disambiguation comes into play, making NER not only about identification but also about understanding context.\n",
    "\n",
    "\n"
   ]
  },
  {
   "cell_type": "markdown",
   "id": "f4e0b7b9",
   "metadata": {},
   "source": [
    "**Target Audience** \n",
    "\n",
    "This tutorial is meant for users who wants to use various state-of-the-art entity linking and disambiguation tools. This tutorial aims to put all related information in a single place"
   ]
  },
  {
   "cell_type": "markdown",
   "id": "f71a23f0",
   "metadata": {},
   "source": [
    "**Prerequisites**\n",
    "\n",
    "1. Basic knowledge of python (https://www.python.org/)\n",
    "2. Basic knowledge of Named Entities (https://en.wikipedia.org/wiki/Named_entity)\n",
    "3. Basic knowledge of Knowledge Graphs and Knowledge Bases (https://www.ontotext.com/knowledgehub/fundamentals/what-is-a-knowledge-base/)"
   ]
  },
  {
   "cell_type": "markdown",
   "id": "021ea376",
   "metadata": {},
   "source": [
    "**Difficulty Level**\n",
    "- Medium"
   ]
  },
  {
   "cell_type": "markdown",
   "id": "87429725",
   "metadata": {},
   "source": [
    "**Duration**\n",
    "- 2 hours"
   ]
  },
  {
   "cell_type": "markdown",
   "id": "a91c4786",
   "metadata": {},
   "source": [
    "**Social Science Use Case**\n",
    "\n",
    "John is a researcher who is researching on socioeconomic disparities in urban areas. He gathers a diverse dataset comprising news articles, research papers, and community forum posts related to urban development and socioeconomic issues. He wants to extract names of people, locations, cities, neighborhoods, social organizations, and government agencies in this data. He can utilize NER tools to extract named entities and also disambiguate similar entities(For example Washington referring to President of the United States or  Washington DC, the capital of United States) that would help him in analysis of his use case and aid to his research within a very short time. \n",
    "\n",
    "\n",
    "As a researcher, Rose is investigating the impact of celebrity endorsements on social attitudes. She has data collected from various social media blogs and forums and she wants to extract mention of celebrity names(For example Ryan Reynolds, the Canadian Actor or the New Zealand Cricketer) . She utilizes NERD tools to extract and categorize names of people and associated entities. This helps her in performing a quantitative analysis of which popular personalities are mentioned and how often in social media.\n"
   ]
  },
  {
   "cell_type": "markdown",
   "id": "c3328498",
   "metadata": {},
   "source": [
    "**Sample Data**\n",
    "\n",
    "Let us consider a sentence (or a list of sentences) in which we want to perform named entity recognition and disambiguation.\n",
    "\n",
    "Example = *Tesla CEO Elon Musk and Jeffrey Epstein associate Ghislaine Maxwell were once photographed together*."
   ]
  },
  {
   "cell_type": "code",
   "execution_count": 1,
   "id": "b7748477",
   "metadata": {},
   "outputs": [],
   "source": [
    "text=\"Tesla CEO Elon Musk and Jeffrey Epstein associate Ghislaine Maxwell were once photographed together.\""
   ]
  },
  {
   "cell_type": "markdown",
   "id": "4c3ee8da",
   "metadata": {},
   "source": [
    "## **1.Entity Fishing Tool**"
   ]
  },
  {
   "cell_type": "markdown",
   "id": "234aa85e",
   "metadata": {},
   "source": [
    "\n",
    "Entity fishing(https://nerd.readthedocs.io/en/latest/index.html) performs general entity recognition and disambiguation against Wikidata knowledge base.The tool currently supports 15 languages, English, French, German, Spanish, Italian, Arabic, Japanese, Chinese (Mandarin), Russian, Portuguese, Farsi, Ukrainian, Swedish, Bengali and Hindi.For English and French, *grobid-ner* is used named entity recognition and disambiguation.\n",
    "\n",
    "     **GROBID NER** : GROBID (GeneRation Of BIbliographic Data) is an open-source machine learning library designed to extract and structure bibliographic metadata from scholarly documents. While GROBID's primary focus is on bibliographic data extraction, it also includes a Named Entity Recognition (NER) component that can be used to extract entities like person names, dates, and locations from scholarly texts.GROBID NER is trained to recognize specific types of entities commonly found in scholarly documents, such as author names, publication dates, journal titles, and more. It's particularly useful for processing academic literature and extracting structured information from research papers and articles.\n",
    "      \n",
    "     **Training data for GROBID NER** : GROBID is trained on Wikipedia articles &  CONLL 2003 dataset that recognises 27 named entity classes (https://grobid-ner.readthedocs.io/en/latest/). \n",
    "  \n",
    "     **Knowledge Base**: Entity fishing disambiguates against wikidata knowledge base.\n",
    "\n"
   ]
  },
  {
   "cell_type": "markdown",
   "id": "95e79480",
   "metadata": {},
   "source": [
    "**Installation for Entity Fishing**\n",
    "1. Install python in your system- pip install python\n",
    "2. Install entity fishing client - pip install entity-fishing-client (https://pypi.org/project/entity-fishing-client/)"
   ]
  },
  {
   "cell_type": "code",
   "execution_count": 3,
   "id": "6f217778",
   "metadata": {},
   "outputs": [
    {
     "name": "stdout",
     "output_type": "stream",
     "text": [
      "Collecting nerd\n",
      "  Using cached nerd-1.0.0.zip (785 bytes)\n",
      "  Preparing metadata (setup.py) ... \u001b[?25ldone\n",
      "\u001b[?25hBuilding wheels for collected packages: nerd\n",
      "  Building wheel for nerd (setup.py) ... \u001b[?25ldone\n",
      "\u001b[?25h  Created wheel for nerd: filename=nerd-1.0.0-py3-none-any.whl size=1213 sha256=9aa857f264f61f2d227dad8c094da25c7e04dfb7869eb1c609ffb0b076d6d9b5\n",
      "  Stored in directory: /Users/shyam/Library/Caches/pip/wheels/af/37/94/b7fd8a98b07ed9c98d0e91c5b3253b9e359eead67c0ad7eaa0\n",
      "Successfully built nerd\n",
      "Installing collected packages: nerd\n",
      "Successfully installed nerd-1.0.0\n"
     ]
    },
    {
     "ename": "ImportError",
     "evalue": "cannot import name 'nerd_client' from 'nerd' (/opt/anaconda3/envs/uni/lib/python3.9/site-packages/nerd.py)",
     "output_type": "error",
     "traceback": [
      "\u001b[0;31m---------------------------------------------------------------------------\u001b[0m",
      "\u001b[0;31mImportError\u001b[0m                               Traceback (most recent call last)",
      "Cell \u001b[0;32mIn[3], line 2\u001b[0m\n\u001b[1;32m      1\u001b[0m get_ipython()\u001b[38;5;241m.\u001b[39msystem(\u001b[38;5;124m'\u001b[39m\u001b[38;5;124mpip install nerd\u001b[39m\u001b[38;5;124m'\u001b[39m)\n\u001b[0;32m----> 2\u001b[0m \u001b[38;5;28;01mfrom\u001b[39;00m \u001b[38;5;21;01mnerd\u001b[39;00m \u001b[38;5;28;01mimport\u001b[39;00m nerd_client\n\u001b[1;32m      3\u001b[0m client \u001b[38;5;241m=\u001b[39m nerd_client\u001b[38;5;241m.\u001b[39mNerdClient()\n\u001b[1;32m      4\u001b[0m client\u001b[38;5;241m.\u001b[39mdisambiguate_text(text)\n",
      "\u001b[0;31mImportError\u001b[0m: cannot import name 'nerd_client' from 'nerd' (/opt/anaconda3/envs/uni/lib/python3.9/site-packages/nerd.py)"
     ]
    }
   ],
   "source": [
    "!pip install nerd\n",
    "from nerd import nerd_client\n",
    "client = nerd_client.NerdClient()\n",
    "client.disambiguate_text(text)"
   ]
  },
  {
   "cell_type": "markdown",
   "id": "1a2659f7",
   "metadata": {},
   "source": [
    "**Output of Entity Fishing**"
   ]
  },
  {
   "cell_type": "markdown",
   "id": "4835e03b",
   "metadata": {},
   "source": [
    "({'text': 'Tesla CEO Elon Musk and Jeffrey Epstein associate Ghislaine Maxwell were once photographed together.',\n",
    "  'entities': [{'rawName': 'Tesla CEO Elon Musk',\n",
    "    'offsetStart': 0,\n",
    "    'offsetEnd': 19,\n",
    "    'confidence_score': 0.6093,\n",
    "    'wikipediaExternalRef': 909036,\n",
    "    'wikidataId': 'Q317521',\n",
    "    'domains': ['Aviation', 'Transport', 'Vehicles']},\n",
    "   {'rawName': 'Jeffrey Epstein',\n",
    "    'offsetStart': 24,\n",
    "    'offsetEnd': 39,\n",
    "    'confidence_score': 0.9152,\n",
    "    'wikipediaExternalRef': 6253522,\n",
    "    'wikidataId': 'Q2904131',\n",
    "    'domains': ['Commerce', 'Enterprise', 'Administration', 'Sociology']},\n",
    "   {'rawName': 'Ghislaine Maxwell',\n",
    "    'offsetStart': 50,\n",
    "    'offsetEnd': 67,\n",
    "    'confidence_score': 0.9134,\n",
    "    'wikipediaExternalRef': 32018562,\n",
    "    'wikidataId': 'Q5556756',\n",
    "    'domains': ['Aviation', 'Transport', 'Biology', 'Sociology']},\n",
    "   {'rawName': 'photographed',\n",
    "    'offsetStart': 78,\n",
    "    'offsetEnd': 90,\n",
    "    'confidence_score': 0.3687,\n",
    "    'wikipediaExternalRef': 23604,\n",
    "    'wikidataId': 'Q11633',\n",
    "    'domains': ['Artisanship', 'Optics']}],\n",
    "  'customisation': 'generic',\n",
    "  'sentence': 'true',\n",
    "  'language': {'lang': 'en', 'conf': 0.999995502488815}},\n",
    " 200)"
   ]
  },
  {
   "cell_type": "markdown",
   "id": "12755f46",
   "metadata": {},
   "source": [
    "## **2.Spacyfishing Tool**"
   ]
  },
  {
   "cell_type": "markdown",
   "id": "624c6f68",
   "metadata": {},
   "source": [
    "Spacyfishing - https://spacy.io/universe/project/spacyfishing\n",
    "A spaCy wrapper of Entity-Fishing for named entity disambiguation and linking .\n",
    "\n",
    "       **SpaCy** : spaCy is a library for advanced Natural Language Processing in Python and Cython. It features NER, POS tagging, dependency parsing, word vectors and more.\n",
    "   \n",
    "       **Training data** :SpaCy is trained on OntoNotes dataset and recognises 20 named entity classes (https://sparknlp.org/2020/12/05/onto_bert_base_cased_en.html). \n",
    "   \n",
    "       **Knowledge Base**: Spacyfishing disambiguates against wikidata knowledge base."
   ]
  },
  {
   "cell_type": "markdown",
   "id": "e0f75473",
   "metadata": {},
   "source": [
    "**Installation of SpacyFishing**\n",
    "1. Install python in your system"
   ]
  },
  {
   "cell_type": "code",
   "execution_count": null,
   "id": "b4350cb5",
   "metadata": {},
   "outputs": [],
   "source": [
    "!pip install python"
   ]
  },
  {
   "cell_type": "markdown",
   "id": "ccf8e1f3",
   "metadata": {},
   "source": [
    "2. Install SpaCy fishing(https://spacy.io/universe/project/spacyfishing)"
   ]
  },
  {
   "cell_type": "code",
   "execution_count": null,
   "id": "8b66ae2c",
   "metadata": {},
   "outputs": [],
   "source": [
    "!pip install spacyfishing "
   ]
  },
  {
   "cell_type": "code",
   "execution_count": null,
   "id": "e505b21c",
   "metadata": {},
   "outputs": [],
   "source": [
    "import spacy\n",
    "nlp = spacy.load('en_core_web_sm')\n",
    "nlp.add_pipe('entityfishing')\n",
    "doc = nlp(text)\n",
    "for ent in doc.ents:\n",
    "    print((ent.text, ent.label_, ent._.kb_qid, ent._.url_wikidata, ent._.nerd_score))"
   ]
  },
  {
   "cell_type": "markdown",
   "id": "66b5aed9",
   "metadata": {},
   "source": [
    "**Output of SpacyFishing**\n"
   ]
  },
  {
   "cell_type": "markdown",
   "id": "950c2a18",
   "metadata": {},
   "source": [
    "('Tesla', 'ORG', 'Q478214', 'https://www.wikidata.org/wiki/Q478214', 0.7998)\n",
    "('Elon Musk', 'PERSON', 'Q317521', 'https://www.wikidata.org/wiki/Q317521', 0.9165)\n",
    "('Jeffrey Epstein', 'PERSON', 'Q2904131', 'https://www.wikidata.org/wiki/Q2904131', 0.9152)\n",
    "('Ghislaine Maxwell', 'PERSON', 'Q5556756', 'https://www.wikidata.org/wiki/Q5556756', 0.9134)"
   ]
  },
  {
   "cell_type": "markdown",
   "id": "374569e8",
   "metadata": {},
   "source": [
    "## 3.Dbpedia Spotlight"
   ]
  },
  {
   "cell_type": "markdown",
   "id": "758398a1",
   "metadata": {},
   "source": [
    "Dbpedia Spotlight - https://github.com/dbpedia-spotlight/dbpedia-spotlight-model \n",
    "DBpedia Spotlight is a tool for annotating mentions of DBpedia resources in text. This allows linking unstructured information sources to the Linked Open Data cloud through DBpedia. It performs both NER and entity linking by linking recognized entities to their corresponding entries in the DBpedia knowledge base.\n",
    " \n",
    "       **Knowledge Base**: Dbpedia Spotlight disambiguates against DBpedia.\n"
   ]
  },
  {
   "cell_type": "markdown",
   "id": "3787b6ae",
   "metadata": {},
   "source": [
    "**Installation of DBpedia Spoltlight**\n",
    "1. Install python in your system- pip install python\n",
    "2. Call the API directly"
   ]
  },
  {
   "cell_type": "code",
   "execution_count": 10,
   "id": "c0b7bc7d",
   "metadata": {},
   "outputs": [],
   "source": [
    "import requests\n",
    "import json\n",
    "\n",
    "data=\"text=\"+text\n",
    "\n",
    "result = requests.post(\"https://api.dbpedia-spotlight.org/en/annotate\", data=data, headers={\"Accept\": \"application/json\"})\n",
    "print(json.loads(result.text))\n",
    "  "
   ]
  },
  {
   "cell_type": "markdown",
   "id": "ee4ba468",
   "metadata": {},
   "source": [
    "**Output of DBpedia Spotlight**"
   ]
  },
  {
   "cell_type": "markdown",
   "id": "d33e824e",
   "metadata": {},
   "source": [
    "{'@text': 'Tesla CEO Elon Musk and Jeffrey Epstein associate Ghislaine Maxwell were once photographed together.', '@confidence': '0.5', '@support': '0', '@types': '', '@sparql': '', '@policy': 'whitelist', 'Resources': [{'@URI': 'http://dbpedia.org/resource/Tesla_Model_3', '@support': '453', '@types': 'Schema:Product,DBpedia:MeanOfTransportation,DBpedia:Automobile', '@surfaceForm': 'Tesla', '@offset': '0', '@similarityScore': '0.8611072046202428', '@percentageOfSecondRank': '0.16123062516034467'}, {'@URI': 'http://dbpedia.org/resource/Chief_executive_officer', '@support': '21733', '@types': '', '@surfaceForm': 'CEO', '@offset': '6', '@similarityScore': '0.999998802534271', '@percentageOfSecondRank': '1.1322503808686818E-6'}, {'@URI': 'http://dbpedia.org/resource/Elon_Musk', '@support': '1028', '@types': '', '@surfaceForm': 'Elon', '@offset': '10', '@similarityScore': '0.9999999380270898', '@percentageOfSecondRank': '5.208287192689886E-8'}, {'@URI': 'http://dbpedia.org/resource/Jeffrey_Epstein', '@support': '330', '@types': 'Http://xmlns.com/foaf/0.1/Person,Wikidata:Q5,Wikidata:Q24229398,Wikidata:Q215627,DUL:NaturalPerson,DUL:Agent,Schema:Person,DBpedia:Agent,DBpedia:Person', '@surfaceForm': 'Jeffrey Epstein', '@offset': '24', '@similarityScore': '1.0', '@percentageOfSecondRank': '0.0'}, {'@URI': 'http://dbpedia.org/resource/Ghislaine_Maxwell', '@support': '49', '@types': 'Http://xmlns.com/foaf/0.1/Person,Wikidata:Q5,Wikidata:Q24229398,Wikidata:Q215627,DUL:NaturalPerson,DUL:Agent,Schema:Person,DBpedia:Agent,DBpedia:Person', '@surfaceForm': 'Ghislaine Maxwell', '@offset': '50', '@similarityScore': '1.0', '@percentageOfSecondRank': '0.0'}]}"
   ]
  },
  {
   "cell_type": "markdown",
   "id": "1a00de16",
   "metadata": {},
   "source": [
    "**Conclusion**\n",
    "\n",
    "In conclusion, this tutorial has equipped you with the skills to use some of the existing open source off-the-shelf NERD tools.\n",
    "\n",
    "This tutorial will give you confidence to explore any new NERD tools other than those avaibale in this tutorial.\n",
    "\n",
    "\n",
    "\n",
    "**Version History**\n",
    "-1.0\n",
    "\n",
    "**Contact details**\n",
    "Susmita.Gangopadhyay@gesis.org\n",
    "\n",
    "\n",
    "\n",
    "**References**\n",
    "\n",
    "For more in-depth exploration, consider checking out the following resources: \n",
    "\n",
    "https://nlpprogress.com/english/entity_linking.html#:~:text=Entity%20Linking%20(EL)%20is%20the,Named%20Entity%20Recognition%20and%20Disambiguation.    \n",
    "\n",
    "\n",
    "\n"
   ]
  },
  {
   "cell_type": "markdown",
   "id": "221b62a8",
   "metadata": {},
   "source": [
    "\n",
    "### **FAQs**\n",
    "\n",
    "#### **Why use off-the-shelf tools for entity linking and disambiguation?**\n",
    "Off-the-shelf tools offer **pre-built solutions** that save time and resources. They are often trained on **large datasets**, providing a good starting point for various applications.\n",
    "\n",
    "#### **What types of entities can be linked using these tools?**\n",
    "Most tools support common entities like **persons, organizations, and locations**. Some may also handle **specific domains** or custom entities based on the tool's training data.\n",
    "\n",
    "#### **How accurate are off-the-shelf tools?**\n",
    "Accuracy varies among tools. It depends on factors such as the **quality of training data**, the **diversity of entities**, and the **specific use case**. Evaluation metrics like **precision, recall, and F1 score** help assess accuracy.\n",
    "\n",
    "#### **Do these tools work for multiple languages?**\n",
    "Many off-the-shelf tools support **multiple languages**, but the level of accuracy can vary. It's essential to check the **documentation** for language support.\n",
    "\n",
    "#### **Can these tools be fine-tuned for domain-specific applications?**\n",
    "Some tools offer the possibility of **fine-tuning** on domain-specific data. However, it depends on the tool's **architecture and capabilities**.\n",
    "\n",
    "#### **How do these tools handle ambiguous references?**\n",
    "Ambiguity resolution depends on **context** and available information. Some tools use **machine learning models** that consider surrounding words, phrases, or contextual information to disambiguate references.\n",
    "\n",
    "#### **Are there privacy concerns when using entity linking tools?**\n",
    "Yes, privacy concerns may arise, especially if the text contains **sensitive information**. It's crucial to review the tool's **privacy policy** and consider using it with proper **data anonymization practices**.\n",
    "\n",
    "#### **What knowledge bases do these tools typically use?**\n",
    "Tools may use popular knowledge bases like **Wikidata, DBpedia, or Freebase**. Some tools allow users to specify **custom knowledge bases** or integrate with proprietary databases.\n",
    "\n",
    "#### **Can these tools handle real-time processing?**\n",
    "Real-time processing capabilities vary. Some tools are optimized for **speed**, while others may be more suitable for **batch processing**. Consider the specific requirements of your application.\n",
    "\n",
    "#### **How do these tools handle typos or misspellings?**\n",
    "Some tools include mechanisms to handle **typos or misspellings** through **fuzzy matching** or **probabilistic models**. However, their effectiveness may vary.\n",
    "\n",
    "#### **Are there limitations to off-the-shelf tools?**\n",
    "Yes, limitations can include handling **rare entities**, dealing with **noisy or informal text**, and adapting to **highly specialized domains**. It's essential to understand the tool's **strengths and weaknesses**.\n",
    "\n",
    "#### **Do these tools require internet access?**\n",
    "Some tools may require **internet access** to query external knowledge bases. Check the tool's **documentation** for offline or custom knowledge base options.\n",
    "\n",
    "#### **How scalable are these tools for large datasets?**\n",
    "Scalability depends on the tool's **architecture**. Some tools are designed for **large-scale processing**, while others may be more suitable for **smaller datasets**.\n",
    "\n",
    "#### **Can I combine multiple tools for better performance?**\n",
    "Yes, combining multiple tools (**ensemble methods**) can improve performance and mitigate the limitations of individual tools. However, **integration complexity** should be considered.\n"
   ]
  },
  {
   "cell_type": "markdown",
   "id": "6945ecbd",
   "metadata": {},
   "source": []
  }
 ],
 "metadata": {
  "kernelspec": {
   "display_name": "uni",
   "language": "python",
   "name": "python3"
  },
  "language_info": {
   "codemirror_mode": {
    "name": "ipython",
    "version": 3
   },
   "file_extension": ".py",
   "mimetype": "text/x-python",
   "name": "python",
   "nbconvert_exporter": "python",
   "pygments_lexer": "ipython3",
   "version": "3.9.16"
  }
 },
 "nbformat": 4,
 "nbformat_minor": 5
}
